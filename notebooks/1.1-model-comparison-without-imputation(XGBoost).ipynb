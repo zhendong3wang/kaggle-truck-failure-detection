{
 "cells": [
  {
   "cell_type": "code",
   "execution_count": 1,
   "metadata": {},
   "outputs": [],
   "source": [
    "import joblib\n",
    "from collections import Counter\n",
    "\n",
    "import pandas as pd\n",
    "import numpy as np\n",
    "from sklearn import preprocessing\n",
    "from sklearn.model_selection import train_test_split, GridSearchCV, StratifiedKFold, RandomizedSearchCV\n",
    "from sklearn.metrics import confusion_matrix, classification_report, fbeta_score, make_scorer\n",
    "from scipy.stats import uniform, randint\n",
    "import xgboost as xgb"
   ]
  },
  {
   "cell_type": "markdown",
   "metadata": {},
   "source": [
    "## Evaluation Methods"
   ]
  },
  {
   "cell_type": "markdown",
   "metadata": {},
   "source": [
    "In order to find the optimal model, F_beta score is applied in cross validation. beta equals to 2 indicates that we have a higher weight on the recall when selecting models . In other words, type II error will be weigh higher.\n",
    "\n",
    "When evaluating the test data, the main measure for deciding the optimal model will be the challenge metric (Total cost = Cost1 · `#type I failures` + Cost2 · `#type II failures`). Besides, F_beta score and classification reports of precision/recall will be applied when running the script as a reference for the model performance. Together with challenge metrics, F_beta scores are recorded as F2 scores.\n",
    "\n",
    "`#type I failures` is the count of type I failures (false positive), which indicates no faulty systems were reported positive falsely and leads to unnecessary mechanical check. While `#type II failures` is the count of type II failures (false negative), which indicates these problematic systems were reported no failure. The costs are 10 and 500 respectively."
   ]
  },
  {
   "cell_type": "markdown",
   "metadata": {},
   "source": [
    "## Load data"
   ]
  },
  {
   "cell_type": "code",
   "execution_count": 2,
   "metadata": {},
   "outputs": [],
   "source": [
    "data = pd.read_csv('../data/ida_2016_training_set_update.csv', na_values=['na'])"
   ]
  },
  {
   "cell_type": "code",
   "execution_count": 3,
   "metadata": {},
   "outputs": [
    {
     "data": {
      "text/plain": [
       "['class',\n",
       " 'aa_000',\n",
       " 'ab_000',\n",
       " 'ac_000',\n",
       " 'ad_000',\n",
       " 'ae_000',\n",
       " 'af_000',\n",
       " 'ag_000',\n",
       " 'ag_001',\n",
       " 'ag_002',\n",
       " 'ag_003',\n",
       " 'ag_004',\n",
       " 'ag_005',\n",
       " 'ag_006',\n",
       " 'ag_007',\n",
       " 'ag_008',\n",
       " 'ag_009',\n",
       " 'ah_000',\n",
       " 'ai_000',\n",
       " 'aj_000',\n",
       " 'ak_000',\n",
       " 'al_000',\n",
       " 'am_0',\n",
       " 'an_000',\n",
       " 'ao_000',\n",
       " 'ap_000',\n",
       " 'aq_000',\n",
       " 'ar_000',\n",
       " 'as_000',\n",
       " 'at_000',\n",
       " 'au_000',\n",
       " 'av_000',\n",
       " 'ax_000',\n",
       " 'ay_000',\n",
       " 'ay_001',\n",
       " 'ay_002',\n",
       " 'ay_003',\n",
       " 'ay_004',\n",
       " 'ay_005',\n",
       " 'ay_006',\n",
       " 'ay_007',\n",
       " 'ay_008',\n",
       " 'ay_009',\n",
       " 'az_000',\n",
       " 'az_001',\n",
       " 'az_002',\n",
       " 'az_003',\n",
       " 'az_004',\n",
       " 'az_005',\n",
       " 'az_006',\n",
       " 'az_007',\n",
       " 'az_008',\n",
       " 'az_009',\n",
       " 'ba_000',\n",
       " 'ba_001',\n",
       " 'ba_002',\n",
       " 'ba_003',\n",
       " 'ba_004',\n",
       " 'ba_005',\n",
       " 'ba_006',\n",
       " 'ba_007',\n",
       " 'ba_008',\n",
       " 'ba_009',\n",
       " 'bb_000',\n",
       " 'bc_000',\n",
       " 'bd_000',\n",
       " 'be_000',\n",
       " 'bf_000',\n",
       " 'bg_000',\n",
       " 'bh_000',\n",
       " 'bi_000',\n",
       " 'bj_000',\n",
       " 'bk_000',\n",
       " 'bl_000',\n",
       " 'bm_000',\n",
       " 'bn_000',\n",
       " 'bo_000',\n",
       " 'bp_000',\n",
       " 'bq_000',\n",
       " 'br_000',\n",
       " 'bs_000',\n",
       " 'bt_000',\n",
       " 'bu_000',\n",
       " 'bv_000',\n",
       " 'bx_000',\n",
       " 'by_000',\n",
       " 'bz_000',\n",
       " 'ca_000',\n",
       " 'cb_000',\n",
       " 'cc_000',\n",
       " 'cd_000',\n",
       " 'ce_000',\n",
       " 'cf_000',\n",
       " 'cg_000',\n",
       " 'ch_000',\n",
       " 'ci_000',\n",
       " 'cj_000',\n",
       " 'ck_000',\n",
       " 'cl_000',\n",
       " 'cm_000',\n",
       " 'cn_000',\n",
       " 'cn_001',\n",
       " 'cn_002',\n",
       " 'cn_003',\n",
       " 'cn_004',\n",
       " 'cn_005',\n",
       " 'cn_006',\n",
       " 'cn_007',\n",
       " 'cn_008',\n",
       " 'cn_009',\n",
       " 'co_000',\n",
       " 'cp_000',\n",
       " 'cq_000',\n",
       " 'cr_000',\n",
       " 'cs_000',\n",
       " 'cs_001',\n",
       " 'cs_002',\n",
       " 'cs_003',\n",
       " 'cs_004',\n",
       " 'cs_005',\n",
       " 'cs_006',\n",
       " 'cs_007',\n",
       " 'cs_008',\n",
       " 'cs_009',\n",
       " 'ct_000',\n",
       " 'cu_000',\n",
       " 'cv_000',\n",
       " 'cx_000',\n",
       " 'cy_000',\n",
       " 'cz_000',\n",
       " 'da_000',\n",
       " 'db_000',\n",
       " 'dc_000',\n",
       " 'dd_000',\n",
       " 'de_000',\n",
       " 'df_000',\n",
       " 'dg_000',\n",
       " 'dh_000',\n",
       " 'di_000',\n",
       " 'dj_000',\n",
       " 'dk_000',\n",
       " 'dl_000',\n",
       " 'dm_000',\n",
       " 'dn_000',\n",
       " 'do_000',\n",
       " 'dp_000',\n",
       " 'dq_000',\n",
       " 'dr_000',\n",
       " 'ds_000',\n",
       " 'dt_000',\n",
       " 'du_000',\n",
       " 'dv_000',\n",
       " 'dx_000',\n",
       " 'dy_000',\n",
       " 'dz_000',\n",
       " 'ea_000',\n",
       " 'eb_000',\n",
       " 'ec_00',\n",
       " 'ed_000',\n",
       " 'ee_000',\n",
       " 'ee_001',\n",
       " 'ee_002',\n",
       " 'ee_003',\n",
       " 'ee_004',\n",
       " 'ee_005',\n",
       " 'ee_006',\n",
       " 'ee_007',\n",
       " 'ee_008',\n",
       " 'ee_009',\n",
       " 'ef_000',\n",
       " 'eg_000']"
      ]
     },
     "execution_count": 3,
     "metadata": {},
     "output_type": "execute_result"
    }
   ],
   "source": [
    "list(data.columns)"
   ]
  },
  {
   "cell_type": "code",
   "execution_count": 4,
   "metadata": {},
   "outputs": [],
   "source": [
    "# Split into X and y\n",
    "X, y = data.drop(['class'], axis=1), data['class']"
   ]
  },
  {
   "cell_type": "code",
   "execution_count": 5,
   "metadata": {},
   "outputs": [],
   "source": [
    "# Split into training/testing dataset\n",
    "X_train, X_test, y_train, y_test = train_test_split(X, y, test_size=0.2, random_state=3, stratify=y)"
   ]
  },
  {
   "cell_type": "markdown",
   "metadata": {},
   "source": [
    "## XGBoost (without imputation of missing data)"
   ]
  },
  {
   "cell_type": "code",
   "execution_count": 6,
   "metadata": {},
   "outputs": [],
   "source": [
    "# Function to get the total cost (competition metric)\n",
    "def get_total_cost(type1_error, type2_error, cost1 = 10, cost2 = 500):\n",
    "    # type II error: FN, cost=500\n",
    "    # type I error: FP, cost=10\n",
    "    return type1_error*cost1 + type2_error*cost2"
   ]
  },
  {
   "cell_type": "code",
   "execution_count": 7,
   "metadata": {},
   "outputs": [],
   "source": [
    "# Function to get prettified confusion matrix\n",
    "def get_confusion_matrix(y_pred, y_true=y_test):\n",
    "    confusion_matrix_df = pd.DataFrame(\n",
    "        confusion_matrix(y_true, y_pred, labels=['pos', 'neg']),\n",
    "        index=['True:pos', 'True:neg'], \n",
    "        columns=['Pred:pos', 'Pred:neg']\n",
    "    )\n",
    "    \n",
    "    return confusion_matrix_df"
   ]
  },
  {
   "cell_type": "code",
   "execution_count": 8,
   "metadata": {},
   "outputs": [],
   "source": [
    "def f_beta_eval(y_pred, dtrain):\n",
    "    y_true = dtrain.get_label()\n",
    "    beta = 2 # Less weight on precision, more weight on recall\n",
    "    return 'ftwo_score', fbeta_score(y_pred, y_true, beta)"
   ]
  },
  {
   "cell_type": "markdown",
   "metadata": {},
   "source": [
    "There are four separate approaches in XGBoost:\n",
    "1. The first model is trained with default parameters as a baseline for comparison. \n",
    "2. There is another one with defined ‘scale_pos_weight’ as proportion between negative to positive cases (59). \n",
    "3. From the grid search CV models, we intend to find the optimal ‘scale_pos_weight’ from a range of possible values; \n",
    "4. While the randomized search CV model is to find a set of optimal parameters from provided parameter distribution. "
   ]
  },
  {
   "cell_type": "markdown",
   "metadata": {},
   "source": [
    "### Baseline - default parameters"
   ]
  },
  {
   "cell_type": "code",
   "execution_count": 15,
   "metadata": {},
   "outputs": [],
   "source": [
    "xgb_model = xgb.XGBClassifier(objective=\"binary:logistic\", eval_metric='aucpr', random_state=3)"
   ]
  },
  {
   "cell_type": "code",
   "execution_count": 16,
   "metadata": {},
   "outputs": [
    {
     "data": {
      "text/plain": [
       "XGBClassifier(base_score=0.5, booster='gbtree', colsample_bylevel=1,\n",
       "              colsample_bynode=1, colsample_bytree=1, eval_metric='aucpr',\n",
       "              gamma=0, gpu_id=-1, importance_type='gain',\n",
       "              interaction_constraints='', learning_rate=0.300000012,\n",
       "              max_delta_step=0, max_depth=6, min_child_weight=1, missing=nan,\n",
       "              monotone_constraints='()', n_estimators=100, n_jobs=0,\n",
       "              num_parallel_tree=1, random_state=3, reg_alpha=0, reg_lambda=1,\n",
       "              scale_pos_weight=1, subsample=1, tree_method='exact',\n",
       "              validate_parameters=1, verbosity=None)"
      ]
     },
     "execution_count": 16,
     "metadata": {},
     "output_type": "execute_result"
    }
   ],
   "source": [
    "xgb_model.fit(X_train, y_train)"
   ]
  },
  {
   "cell_type": "code",
   "execution_count": 17,
   "metadata": {},
   "outputs": [],
   "source": [
    "y_pred = xgb_model.predict(X_test)"
   ]
  },
  {
   "cell_type": "code",
   "execution_count": 18,
   "metadata": {},
   "outputs": [
    {
     "name": "stdout",
     "output_type": "stream",
     "text": [
      "Confusion matrix:\n",
      "           Pred:pos  Pred:neg\n",
      "True:pos       149        51\n",
      "True:neg        14     11786\n"
     ]
    }
   ],
   "source": [
    "conf_mat = get_confusion_matrix(y_pred)\n",
    "print(f'Confusion matrix:\\n {conf_mat}')"
   ]
  },
  {
   "cell_type": "code",
   "execution_count": 19,
   "metadata": {
    "scrolled": true
   },
   "outputs": [
    {
     "name": "stdout",
     "output_type": "stream",
     "text": [
      "Total cost: 25640\n"
     ]
    }
   ],
   "source": [
    "total_cost = get_total_cost(type1_error=14, type2_error=51)\n",
    "print(f'Total cost: {total_cost}')"
   ]
  },
  {
   "cell_type": "code",
   "execution_count": 20,
   "metadata": {},
   "outputs": [
    {
     "name": "stdout",
     "output_type": "stream",
     "text": [
      "              precision    recall  f1-score   support\n",
      "\n",
      "         neg       1.00      1.00      1.00     11800\n",
      "         pos       0.91      0.74      0.82       200\n",
      "\n",
      "    accuracy                           0.99     12000\n",
      "   macro avg       0.95      0.87      0.91     12000\n",
      "weighted avg       0.99      0.99      0.99     12000\n",
      "\n"
     ]
    }
   ],
   "source": [
    "print(classification_report(y_test, y_pred))"
   ]
  },
  {
   "cell_type": "code",
   "execution_count": 21,
   "metadata": {
    "scrolled": true
   },
   "outputs": [
    {
     "name": "stdout",
     "output_type": "stream",
     "text": [
      "F2 score: 0.7736240913811007\n"
     ]
    }
   ],
   "source": [
    "ftwo_score = fbeta_score(y_test, y_pred, beta=2, pos_label='pos')\n",
    "\n",
    "print(f'F2 score: {ftwo_score}')"
   ]
  },
  {
   "cell_type": "markdown",
   "metadata": {},
   "source": [
    "### Making use of 'sclae_pos_weight' parameter"
   ]
  },
  {
   "cell_type": "markdown",
   "metadata": {},
   "source": [
    "'scale_pos_weight' value is used to scale the gradient for the positive class."
   ]
  },
  {
   "cell_type": "code",
   "execution_count": 22,
   "metadata": {},
   "outputs": [
    {
     "name": "stdout",
     "output_type": "stream",
     "text": [
      "59.0\n"
     ]
    }
   ],
   "source": [
    "# count examples in each class\n",
    "counter = Counter(y_train)\n",
    "\n",
    "# estimate scale_pos_weight value\n",
    "estimate = counter['neg'] / counter['pos'] # scale_pos_weight = total_negative_examples / total_positive_examples\n",
    "print(estimate)"
   ]
  },
  {
   "cell_type": "code",
   "execution_count": 23,
   "metadata": {},
   "outputs": [],
   "source": [
    "# define model\n",
    "xgb_model2 = xgb.XGBClassifier(objective=\"binary:logistic\", eval_metric='aucpr', random_state=3, scale_pos_weight=estimate)"
   ]
  },
  {
   "cell_type": "code",
   "execution_count": 24,
   "metadata": {},
   "outputs": [
    {
     "data": {
      "text/plain": [
       "XGBClassifier(base_score=0.5, booster='gbtree', colsample_bylevel=1,\n",
       "              colsample_bynode=1, colsample_bytree=1, eval_metric='aucpr',\n",
       "              gamma=0, gpu_id=-1, importance_type='gain',\n",
       "              interaction_constraints='', learning_rate=0.300000012,\n",
       "              max_delta_step=0, max_depth=6, min_child_weight=1, missing=nan,\n",
       "              monotone_constraints='()', n_estimators=100, n_jobs=0,\n",
       "              num_parallel_tree=1, random_state=3, reg_alpha=0, reg_lambda=1,\n",
       "              scale_pos_weight=59.0, subsample=1, tree_method='exact',\n",
       "              validate_parameters=1, verbosity=None)"
      ]
     },
     "execution_count": 24,
     "metadata": {},
     "output_type": "execute_result"
    }
   ],
   "source": [
    "xgb_model2.fit(X_train, y_train)"
   ]
  },
  {
   "cell_type": "code",
   "execution_count": 25,
   "metadata": {},
   "outputs": [],
   "source": [
    "y_pred2 = xgb_model2.predict(X_test)"
   ]
  },
  {
   "cell_type": "code",
   "execution_count": 26,
   "metadata": {},
   "outputs": [
    {
     "name": "stdout",
     "output_type": "stream",
     "text": [
      "Confusion matrix:\n",
      "           Pred:pos  Pred:neg\n",
      "True:pos       169        31\n",
      "True:neg        23     11777\n"
     ]
    }
   ],
   "source": [
    "# Evaluation on test data set\n",
    "conf_mat2 = get_confusion_matrix(y_pred2)\n",
    "print(f'Confusion matrix:\\n {conf_mat2}')"
   ]
  },
  {
   "cell_type": "code",
   "execution_count": 27,
   "metadata": {
    "scrolled": true
   },
   "outputs": [
    {
     "name": "stdout",
     "output_type": "stream",
     "text": [
      "Total cost: 15730\n"
     ]
    }
   ],
   "source": [
    "total_cost2 = get_total_cost(type1_error=23, type2_error=31)\n",
    "print(f'Total cost: {total_cost2}')"
   ]
  },
  {
   "cell_type": "code",
   "execution_count": 28,
   "metadata": {},
   "outputs": [
    {
     "name": "stdout",
     "output_type": "stream",
     "text": [
      "              precision    recall  f1-score   support\n",
      "\n",
      "         neg       1.00      1.00      1.00     11800\n",
      "         pos       0.88      0.84      0.86       200\n",
      "\n",
      "    accuracy                           1.00     12000\n",
      "   macro avg       0.94      0.92      0.93     12000\n",
      "weighted avg       1.00      1.00      1.00     12000\n",
      "\n"
     ]
    }
   ],
   "source": [
    "print(classification_report(y_test, y_pred2))"
   ]
  },
  {
   "cell_type": "code",
   "execution_count": 29,
   "metadata": {
    "scrolled": true
   },
   "outputs": [
    {
     "name": "stdout",
     "output_type": "stream",
     "text": [
      "F2 score: 0.8518145161290323\n"
     ]
    }
   ],
   "source": [
    "ftwo_score2 = fbeta_score(y_test, y_pred2, beta=2, pos_label='pos')\n",
    "\n",
    "print(f'F2 score: {ftwo_score2}')"
   ]
  },
  {
   "cell_type": "markdown",
   "metadata": {},
   "source": [
    "### Grid search CV"
   ]
  },
  {
   "cell_type": "code",
   "execution_count": 30,
   "metadata": {},
   "outputs": [],
   "source": [
    "# Define a 5-fold splits in applying CV, random_state is fixed\n",
    "fold = StratifiedKFold(n_splits=5, shuffle=True, random_state=3)"
   ]
  },
  {
   "cell_type": "code",
   "execution_count": 31,
   "metadata": {},
   "outputs": [],
   "source": [
    "# define grid\n",
    "param_grids = {'scale_pos_weight': [1, 10, 25, 50, 75, 99, 100, 1000]} # deafult=1"
   ]
  },
  {
   "cell_type": "code",
   "execution_count": 32,
   "metadata": {},
   "outputs": [],
   "source": [
    "ftwo_scorer = make_scorer(fbeta_score, beta=2, pos_label='pos')"
   ]
  },
  {
   "cell_type": "code",
   "execution_count": 33,
   "metadata": {},
   "outputs": [],
   "source": [
    "xgb_model3 = xgb.XGBClassifier(objective=\"binary:logistic\", eval_metric='aucpr', random_state=3)\n",
    "\n",
    "# define grid search\n",
    "grid_search_cv_models = GridSearchCV(estimator=xgb_model3, param_grid=param_grids, n_jobs=1, scoring=ftwo_scorer, cv=fold, verbose=1, return_train_score=True)"
   ]
  },
  {
   "cell_type": "code",
   "execution_count": 34,
   "metadata": {},
   "outputs": [
    {
     "name": "stdout",
     "output_type": "stream",
     "text": [
      "Fitting 5 folds for each of 8 candidates, totalling 40 fits\n"
     ]
    },
    {
     "name": "stderr",
     "output_type": "stream",
     "text": [
      "[Parallel(n_jobs=1)]: Using backend SequentialBackend with 1 concurrent workers.\n",
      "[Parallel(n_jobs=1)]: Done  40 out of  40 | elapsed: 44.8min finished\n"
     ]
    },
    {
     "data": {
      "text/plain": [
       "GridSearchCV(cv=StratifiedKFold(n_splits=5, random_state=3, shuffle=True),\n",
       "             estimator=XGBClassifier(base_score=None, booster=None,\n",
       "                                     colsample_bylevel=None,\n",
       "                                     colsample_bynode=None,\n",
       "                                     colsample_bytree=None, eval_metric='aucpr',\n",
       "                                     gamma=None, gpu_id=None,\n",
       "                                     importance_type='gain',\n",
       "                                     interaction_constraints=None,\n",
       "                                     learning_rate=None, max_delta_step=None,\n",
       "                                     max_depth=None, min_child...\n",
       "                                     n_estimators=100, n_jobs=None,\n",
       "                                     num_parallel_tree=None, random_state=3,\n",
       "                                     reg_alpha=None, reg_lambda=None,\n",
       "                                     scale_pos_weight=None, subsample=None,\n",
       "                                     tree_method=None, validate_parameters=None,\n",
       "                                     verbosity=None),\n",
       "             n_jobs=1,\n",
       "             param_grid={'scale_pos_weight': [1, 10, 25, 50, 75, 99, 100,\n",
       "                                              1000]},\n",
       "             return_train_score=True,\n",
       "             scoring=make_scorer(fbeta_score, beta=2, pos_label=pos),\n",
       "             verbose=1)"
      ]
     },
     "execution_count": 34,
     "metadata": {},
     "output_type": "execute_result"
    }
   ],
   "source": [
    "# execute the grid search\n",
    "grid_search_cv_models.fit(X_train, y_train)"
   ]
  },
  {
   "cell_type": "code",
   "execution_count": 35,
   "metadata": {},
   "outputs": [
    {
     "name": "stdout",
     "output_type": "stream",
     "text": [
      "The best score during training: 0.8011889992579281, with params: {'scale_pos_weight': 99}\n"
     ]
    }
   ],
   "source": [
    "print(f'The best score during training: {grid_search_cv_models.best_score_}, with params: {grid_search_cv_models.best_params_}')"
   ]
  },
  {
   "cell_type": "code",
   "execution_count": null,
   "metadata": {
    "scrolled": true
   },
   "outputs": [],
   "source": [
    "# grid_search_cv_models.cv_results_"
   ]
  },
  {
   "cell_type": "code",
   "execution_count": 54,
   "metadata": {},
   "outputs": [],
   "source": [
    "with open('../models/grid_search_cv_models.pkl', 'wb') as pickled_file: \n",
    "    joblib.dump(grid_search_cv_models, pickled_file)"
   ]
  },
  {
   "cell_type": "code",
   "execution_count": 36,
   "metadata": {},
   "outputs": [],
   "source": [
    "y_pred3 = grid_search_cv_models.predict(X_test)"
   ]
  },
  {
   "cell_type": "code",
   "execution_count": 37,
   "metadata": {},
   "outputs": [
    {
     "name": "stdout",
     "output_type": "stream",
     "text": [
      "Confusion matrix:\n",
      "           Pred:pos  Pred:neg\n",
      "True:pos       166        34\n",
      "True:neg        34     11766\n"
     ]
    }
   ],
   "source": [
    "conf_mat3 = get_confusion_matrix(y_pred3)\n",
    "print(f'Confusion matrix:\\n {conf_mat3}')"
   ]
  },
  {
   "cell_type": "code",
   "execution_count": 38,
   "metadata": {
    "scrolled": true
   },
   "outputs": [
    {
     "name": "stdout",
     "output_type": "stream",
     "text": [
      "Total cost: 17340\n"
     ]
    }
   ],
   "source": [
    "total_cost3 = get_total_cost(type1_error=34, type2_error=34)\n",
    "print(f'Total cost: {total_cost3}')"
   ]
  },
  {
   "cell_type": "code",
   "execution_count": 39,
   "metadata": {},
   "outputs": [
    {
     "name": "stdout",
     "output_type": "stream",
     "text": [
      "              precision    recall  f1-score   support\n",
      "\n",
      "         neg       1.00      1.00      1.00     11800\n",
      "         pos       0.83      0.83      0.83       200\n",
      "\n",
      "    accuracy                           0.99     12000\n",
      "   macro avg       0.91      0.91      0.91     12000\n",
      "weighted avg       0.99      0.99      0.99     12000\n",
      "\n"
     ]
    }
   ],
   "source": [
    "print(classification_report(y_test, y_pred3))"
   ]
  },
  {
   "cell_type": "code",
   "execution_count": 40,
   "metadata": {
    "scrolled": true
   },
   "outputs": [
    {
     "name": "stdout",
     "output_type": "stream",
     "text": [
      "F2 score: 0.83\n"
     ]
    }
   ],
   "source": [
    "ftwo_score3 = fbeta_score(y_test, y_pred3, beta=2, pos_label='pos')\n",
    "\n",
    "print(f'F2 score: {ftwo_score3}')"
   ]
  },
  {
   "cell_type": "markdown",
   "metadata": {},
   "source": [
    "### Randomized search  CV"
   ]
  },
  {
   "cell_type": "code",
   "execution_count": 41,
   "metadata": {},
   "outputs": [],
   "source": [
    "# Define parameter distribution for Randomized search CV\n",
    "param_distributions = {\n",
    "    'colsample_bytree': uniform(0.7, 0.3),\n",
    "    'gamma': uniform(0, 0.5),\n",
    "    'learning_rate': uniform(0.03, 0.3), # default 0.1 \n",
    "    'max_depth': randint(2, 6), # default 3\n",
    "    'n_estimators': randint(100, 150), # default 100\n",
    "    'subsample': uniform(0.6, 0.4)\n",
    "}"
   ]
  },
  {
   "cell_type": "code",
   "execution_count": 42,
   "metadata": {},
   "outputs": [],
   "source": [
    "xgb_model4 = xgb.XGBClassifier(objective=\"binary:logistic\", eval_metric='aucpr', random_state=3)\n",
    "\n",
    "random_search_cv_models = RandomizedSearchCV(xgb_model4, param_distributions=param_distributions, scoring=ftwo_scorer, random_state=3, n_iter=10, cv=fold, verbose=1, n_jobs=1, return_train_score=True)"
   ]
  },
  {
   "cell_type": "code",
   "execution_count": 43,
   "metadata": {},
   "outputs": [
    {
     "name": "stdout",
     "output_type": "stream",
     "text": [
      "Fitting 5 folds for each of 10 candidates, totalling 50 fits\n"
     ]
    },
    {
     "name": "stderr",
     "output_type": "stream",
     "text": [
      "[Parallel(n_jobs=1)]: Using backend SequentialBackend with 1 concurrent workers.\n",
      "[Parallel(n_jobs=1)]: Done  50 out of  50 | elapsed: 32.6min finished\n"
     ]
    },
    {
     "data": {
      "text/plain": [
       "RandomizedSearchCV(cv=StratifiedKFold(n_splits=5, random_state=3, shuffle=True),\n",
       "                   estimator=XGBClassifier(base_score=None, booster=None,\n",
       "                                           colsample_bylevel=None,\n",
       "                                           colsample_bynode=None,\n",
       "                                           colsample_bytree=None,\n",
       "                                           eval_metric='aucpr', gamma=None,\n",
       "                                           gpu_id=None, importance_type='gain',\n",
       "                                           interaction_constraints=None,\n",
       "                                           learning_rate=None,\n",
       "                                           max_delta_step=None, max_depth=None,\n",
       "                                           min...\n",
       "                                        'learning_rate': <scipy.stats._distn_infrastructure.rv_frozen object at 0x11d733f70>,\n",
       "                                        'max_depth': <scipy.stats._distn_infrastructure.rv_frozen object at 0x11d7335b0>,\n",
       "                                        'n_estimators': <scipy.stats._distn_infrastructure.rv_frozen object at 0x11d733c10>,\n",
       "                                        'subsample': <scipy.stats._distn_infrastructure.rv_frozen object at 0x11d7512b0>},\n",
       "                   random_state=3, return_train_score=True,\n",
       "                   scoring=make_scorer(fbeta_score, beta=2, pos_label=pos),\n",
       "                   verbose=1)"
      ]
     },
     "execution_count": 43,
     "metadata": {},
     "output_type": "execute_result"
    }
   ],
   "source": [
    "random_search_cv_models.fit(X_train, y_train)"
   ]
  },
  {
   "cell_type": "code",
   "execution_count": 46,
   "metadata": {},
   "outputs": [
    {
     "name": "stdout",
     "output_type": "stream",
     "text": [
      "The best score during training: 0.7557770545133612, with params: {'colsample_bytree': 0.8772588452249052, 'gamma': 0.011990941188582682, 'learning_rate': 0.1976562263972646, 'max_depth': 3, 'n_estimators': 140, 'subsample': 0.7660404788040278}\n"
     ]
    }
   ],
   "source": [
    "print(f'The best score during training: {random_search_cv_models.best_score_}, with params: {random_search_cv_models.best_params_}')"
   ]
  },
  {
   "cell_type": "code",
   "execution_count": 45,
   "metadata": {},
   "outputs": [],
   "source": [
    "with open('../models/random_search_cv_models.pkl', 'wb') as pickled_file: \n",
    "    joblib.dump(random_search_cv_models, pickled_file)"
   ]
  },
  {
   "cell_type": "code",
   "execution_count": 47,
   "metadata": {},
   "outputs": [],
   "source": [
    "y_pred4 = random_search_cv_models.predict(X_test)"
   ]
  },
  {
   "cell_type": "code",
   "execution_count": 48,
   "metadata": {},
   "outputs": [
    {
     "name": "stdout",
     "output_type": "stream",
     "text": [
      "Confusion matrix:\n",
      "           Pred:pos  Pred:neg\n",
      "True:pos       148        52\n",
      "True:neg        12     11788\n"
     ]
    }
   ],
   "source": [
    "conf_mat4 = get_confusion_matrix(y_pred4)\n",
    "print(f'Confusion matrix:\\n {conf_mat4}')"
   ]
  },
  {
   "cell_type": "code",
   "execution_count": 49,
   "metadata": {
    "scrolled": true
   },
   "outputs": [
    {
     "name": "stdout",
     "output_type": "stream",
     "text": [
      "Total cost: 26120\n"
     ]
    }
   ],
   "source": [
    "total_cost4 = get_total_cost(type1_error=12, type2_error=52)\n",
    "print(f'Total cost: {total_cost4}')"
   ]
  },
  {
   "cell_type": "code",
   "execution_count": 50,
   "metadata": {},
   "outputs": [
    {
     "name": "stdout",
     "output_type": "stream",
     "text": [
      "              precision    recall  f1-score   support\n",
      "\n",
      "         neg       1.00      1.00      1.00     11800\n",
      "         pos       0.93      0.74      0.82       200\n",
      "\n",
      "    accuracy                           0.99     12000\n",
      "   macro avg       0.96      0.87      0.91     12000\n",
      "weighted avg       0.99      0.99      0.99     12000\n",
      "\n"
     ]
    }
   ],
   "source": [
    "print(classification_report(y_test, y_pred4))"
   ]
  },
  {
   "cell_type": "code",
   "execution_count": 51,
   "metadata": {
    "scrolled": true
   },
   "outputs": [
    {
     "name": "stdout",
     "output_type": "stream",
     "text": [
      "F2 score: 0.7708333333333333\n"
     ]
    }
   ],
   "source": [
    "ftwo_score4 = fbeta_score(y_test, y_pred4, beta=2, pos_label='pos')\n",
    "\n",
    "print(f'F2 score: {ftwo_score4}')"
   ]
  },
  {
   "cell_type": "markdown",
   "metadata": {},
   "source": [
    "### Visualization for the best model"
   ]
  },
  {
   "cell_type": "code",
   "execution_count": 52,
   "metadata": {},
   "outputs": [
    {
     "data": {
      "text/plain": [
       "<AxesSubplot:title={'center':'Feature importance'}, xlabel='F score', ylabel='Features'>"
      ]
     },
     "execution_count": 52,
     "metadata": {},
     "output_type": "execute_result"
    },
    {
     "data": {
      "image/png": "[encoded data removed]",
      "text/plain": [
       "<Figure size 3456x2592 with 1 Axes>"
      ]
     },
     "metadata": {
      "needs_background": "light"
     },
     "output_type": "display_data"
    }
   ],
   "source": [
    "import graphviz\n",
    "import matplotlib.pyplot as plt\n",
    "\n",
    "fig, ax = plt.subplots(1,1,figsize=(48, 36))\n",
    "xgb.plot_importance(xgb_model2, ax=ax)\n"
   ]
  },
  {
   "cell_type": "code",
   "execution_count": 53,
   "metadata": {},
   "outputs": [
    {
     "data": {
      "image/svg+xml": [
       "<?xml version=\"1.0\" encoding=\"UTF-8\" standalone=\"no\"?>\n",
       "<!DOCTYPE svg PUBLIC \"-//W3C//DTD SVG 1.1//EN\"\n",
       " \"http://www.w3.org/Graphics/SVG/1.1/DTD/svg11.dtd\">\n",
       "<!-- Generated by graphviz version 2.44.1 (20200629.0846)\n",
       " -->\n",
       "<!-- Pages: 1 -->\n",
       "<svg width=\"4533pt\" height=\"566pt\"\n",
       " viewBox=\"0.00 0.00 4533.04 566.00\" xmlns=\"http://www.w3.org/2000/svg\" xmlns:xlink=\"http://www.w3.org/1999/xlink\">\n",
       "<g id=\"graph0\" class=\"graph\" transform=\"scale(1 1) rotate(0) translate(4 562)\">\n",
       "<polygon fill=\"white\" stroke=\"transparent\" points=\"-4,4 -4,-562 4529.04,-562 4529.04,4 -4,4\"/>\n",
       "<!-- 0 -->\n",
       "<g id=\"node1\" class=\"node\">\n",
       "<title>0</title>\n",
       "<ellipse fill=\"none\" stroke=\"black\" cx=\"2083.64\" cy=\"-540\" rx=\"83.69\" ry=\"18\"/>\n",
       "<text text-anchor=\"middle\" x=\"2083.64\" y=\"-536.3\" font-family=\"Times,serif\" font-size=\"14.00\">ck_000&lt;1413055.25</text>\n",
       "</g>\n",
       "<!-- 1 -->\n",
       "<g id=\"node2\" class=\"node\">\n",
       "<title>1</title>\n",
       "<ellipse fill=\"none\" stroke=\"black\" cx=\"1732.64\" cy=\"-453\" rx=\"66.89\" ry=\"18\"/>\n",
       "<text text-anchor=\"middle\" x=\"1732.64\" y=\"-449.3\" font-family=\"Times,serif\" font-size=\"14.00\">bj_000&lt;676521</text>\n",
       "</g>\n",
       "<!-- 0&#45;&gt;1 -->\n",
       "<g id=\"edge1\" class=\"edge\">\n",
       "<title>0&#45;&gt;1</title>\n",
       "<path fill=\"none\" stroke=\"#ff0000\" d=\"M2030.33,-526.09C1965.67,-510.43 1857.06,-484.13 1790.44,-468\"/>\n",
       "<polygon fill=\"#ff0000\" stroke=\"#ff0000\" points=\"1791.06,-464.55 1780.52,-465.59 1789.42,-471.35 1791.06,-464.55\"/>\n",
       "<text text-anchor=\"middle\" x=\"1936.64\" y=\"-492.8\" font-family=\"Times,serif\" font-size=\"14.00\">no</text>\n",
       "</g>\n",
       "<!-- 2 -->\n",
       "<g id=\"node3\" class=\"node\">\n",
       "<title>2</title>\n",
       "<ellipse fill=\"none\" stroke=\"black\" cx=\"2361.64\" cy=\"-453\" rx=\"71.49\" ry=\"18\"/>\n",
       "<text text-anchor=\"middle\" x=\"2361.64\" y=\"-449.3\" font-family=\"Times,serif\" font-size=\"14.00\">bj_000&lt;1850956</text>\n",
       "</g>\n",
       "<!-- 0&#45;&gt;2 -->\n",
       "<g id=\"edge2\" class=\"edge\">\n",
       "<title>0&#45;&gt;2</title>\n",
       "<path fill=\"none\" stroke=\"#0000ff\" d=\"M2129.86,-524.87C2179.03,-509.83 2256.71,-486.08 2308.41,-470.28\"/>\n",
       "<polygon fill=\"#0000ff\" stroke=\"#0000ff\" points=\"2309.53,-473.6 2318.07,-467.32 2307.48,-466.9 2309.53,-473.6\"/>\n",
       "<text text-anchor=\"middle\" x=\"2274.14\" y=\"-492.8\" font-family=\"Times,serif\" font-size=\"14.00\">yes, missing</text>\n",
       "</g>\n",
       "<!-- 3 -->\n",
       "<g id=\"node4\" class=\"node\">\n",
       "<title>3</title>\n",
       "<ellipse fill=\"none\" stroke=\"black\" cx=\"939.64\" cy=\"-366\" rx=\"64.19\" ry=\"18\"/>\n",
       "<text text-anchor=\"middle\" x=\"939.64\" y=\"-362.3\" font-family=\"Times,serif\" font-size=\"14.00\">dg_000&lt;93949</text>\n",
       "</g>\n",
       "<!-- 1&#45;&gt;3 -->\n",
       "<g id=\"edge3\" class=\"edge\">\n",
       "<title>1&#45;&gt;3</title>\n",
       "<path fill=\"none\" stroke=\"#0000ff\" d=\"M1671.73,-445.47C1526.73,-429.93 1161.77,-390.81 1008.8,-374.41\"/>\n",
       "<polygon fill=\"#0000ff\" stroke=\"#0000ff\" points=\"1008.91,-370.9 998.6,-373.32 1008.17,-377.87 1008.91,-370.9\"/>\n",
       "<text text-anchor=\"middle\" x=\"1418.14\" y=\"-405.8\" font-family=\"Times,serif\" font-size=\"14.00\">yes, missing</text>\n",
       "</g>\n",
       "<!-- 4 -->\n",
       "<g id=\"node5\" class=\"node\">\n",
       "<title>4</title>\n",
       "<ellipse fill=\"none\" stroke=\"black\" cx=\"1732.64\" cy=\"-366\" rx=\"63.89\" ry=\"18\"/>\n",
       "<text text-anchor=\"middle\" x=\"1732.64\" y=\"-362.3\" font-family=\"Times,serif\" font-size=\"14.00\">cn_002&lt;49177</text>\n",
       "</g>\n",
       "<!-- 1&#45;&gt;4 -->\n",
       "<g id=\"edge4\" class=\"edge\">\n",
       "<title>1&#45;&gt;4</title>\n",
       "<path fill=\"none\" stroke=\"#ff0000\" d=\"M1732.64,-434.8C1732.64,-423.16 1732.64,-407.55 1732.64,-394.24\"/>\n",
       "<polygon fill=\"#ff0000\" stroke=\"#ff0000\" points=\"1736.14,-394.18 1732.64,-384.18 1729.14,-394.18 1736.14,-394.18\"/>\n",
       "<text text-anchor=\"middle\" x=\"1739.64\" y=\"-405.8\" font-family=\"Times,serif\" font-size=\"14.00\">no</text>\n",
       "</g>\n",
       "<!-- 5 -->\n",
       "<g id=\"node40\" class=\"node\">\n",
       "<title>5</title>\n",
       "<ellipse fill=\"none\" stroke=\"black\" cx=\"2361.64\" cy=\"-366\" rx=\"46.29\" ry=\"18\"/>\n",
       "<text text-anchor=\"middle\" x=\"2361.64\" y=\"-362.3\" font-family=\"Times,serif\" font-size=\"14.00\">cn_002&lt;5</text>\n",
       "</g>\n",
       "<!-- 2&#45;&gt;5 -->\n",
       "<g id=\"edge39\" class=\"edge\">\n",
       "<title>2&#45;&gt;5</title>\n",
       "<path fill=\"none\" stroke=\"#ff0000\" d=\"M2361.64,-434.8C2361.64,-423.16 2361.64,-407.55 2361.64,-394.24\"/>\n",
       "<polygon fill=\"#ff0000\" stroke=\"#ff0000\" points=\"2365.14,-394.18 2361.64,-384.18 2358.14,-394.18 2365.14,-394.18\"/>\n",
       "<text text-anchor=\"middle\" x=\"2368.64\" y=\"-405.8\" font-family=\"Times,serif\" font-size=\"14.00\">no</text>\n",
       "</g>\n",
       "<!-- 6 -->\n",
       "<g id=\"node41\" class=\"node\">\n",
       "<title>6</title>\n",
       "<ellipse fill=\"none\" stroke=\"black\" cx=\"3340.64\" cy=\"-366\" rx=\"55.79\" ry=\"18\"/>\n",
       "<text text-anchor=\"middle\" x=\"3340.64\" y=\"-362.3\" font-family=\"Times,serif\" font-size=\"14.00\">bx_000&lt;193</text>\n",
       "</g>\n",
       "<!-- 2&#45;&gt;6 -->\n",
       "<g id=\"edge40\" class=\"edge\">\n",
       "<title>2&#45;&gt;6</title>\n",
       "<path fill=\"none\" stroke=\"#0000ff\" d=\"M2428.16,-446.22C2607.81,-430.63 3101.07,-387.8 3277.14,-372.51\"/>\n",
       "<polygon fill=\"#0000ff\" stroke=\"#0000ff\" points=\"3277.62,-375.98 3287.28,-371.63 3277.02,-369.01 3277.62,-375.98\"/>\n",
       "<text text-anchor=\"middle\" x=\"2945.14\" y=\"-405.8\" font-family=\"Times,serif\" font-size=\"14.00\">yes, missing</text>\n",
       "</g>\n",
       "<!-- 7 -->\n",
       "<g id=\"node6\" class=\"node\">\n",
       "<title>7</title>\n",
       "<ellipse fill=\"none\" stroke=\"black\" cx=\"686.64\" cy=\"-279\" rx=\"63.89\" ry=\"18\"/>\n",
       "<text text-anchor=\"middle\" x=\"686.64\" y=\"-275.3\" font-family=\"Times,serif\" font-size=\"14.00\">az_001&lt;26664</text>\n",
       "</g>\n",
       "<!-- 3&#45;&gt;7 -->\n",
       "<g id=\"edge5\" class=\"edge\">\n",
       "<title>3&#45;&gt;7</title>\n",
       "<path fill=\"none\" stroke=\"#0000ff\" d=\"M900.11,-351.72C855.65,-336.78 783.39,-312.5 735.44,-296.4\"/>\n",
       "<polygon fill=\"#0000ff\" stroke=\"#0000ff\" points=\"736.49,-293.06 725.9,-293.19 734.26,-299.69 736.49,-293.06\"/>\n",
       "<text text-anchor=\"middle\" x=\"863.14\" y=\"-318.8\" font-family=\"Times,serif\" font-size=\"14.00\">yes, missing</text>\n",
       "</g>\n",
       "<!-- 8 -->\n",
       "<g id=\"node7\" class=\"node\">\n",
       "<title>8</title>\n",
       "<ellipse fill=\"none\" stroke=\"black\" cx=\"939.64\" cy=\"-279\" rx=\"63.89\" ry=\"18\"/>\n",
       "<text text-anchor=\"middle\" x=\"939.64\" y=\"-275.3\" font-family=\"Times,serif\" font-size=\"14.00\">ca_000&lt;64886</text>\n",
       "</g>\n",
       "<!-- 3&#45;&gt;8 -->\n",
       "<g id=\"edge6\" class=\"edge\">\n",
       "<title>3&#45;&gt;8</title>\n",
       "<path fill=\"none\" stroke=\"#ff0000\" d=\"M939.64,-347.8C939.64,-336.16 939.64,-320.55 939.64,-307.24\"/>\n",
       "<polygon fill=\"#ff0000\" stroke=\"#ff0000\" points=\"943.14,-307.18 939.64,-297.18 936.14,-307.18 943.14,-307.18\"/>\n",
       "<text text-anchor=\"middle\" x=\"946.64\" y=\"-318.8\" font-family=\"Times,serif\" font-size=\"14.00\">no</text>\n",
       "</g>\n",
       "<!-- 9 -->\n",
       "<g id=\"node22\" class=\"node\">\n",
       "<title>9</title>\n",
       "<ellipse fill=\"none\" stroke=\"black\" cx=\"1607.64\" cy=\"-279\" rx=\"63.89\" ry=\"18\"/>\n",
       "<text text-anchor=\"middle\" x=\"1607.64\" y=\"-275.3\" font-family=\"Times,serif\" font-size=\"14.00\">cn_008&lt;24030</text>\n",
       "</g>\n",
       "<!-- 4&#45;&gt;9 -->\n",
       "<g id=\"edge21\" class=\"edge\">\n",
       "<title>4&#45;&gt;9</title>\n",
       "<path fill=\"none\" stroke=\"#0000ff\" d=\"M1705.74,-349.51C1695.83,-343.61 1684.6,-336.69 1674.64,-330 1661.75,-321.33 1647.93,-311.17 1636.21,-302.28\"/>\n",
       "<polygon fill=\"#0000ff\" stroke=\"#0000ff\" points=\"1638.16,-299.37 1628.09,-296.08 1633.91,-304.93 1638.16,-299.37\"/>\n",
       "<text text-anchor=\"middle\" x=\"1709.14\" y=\"-318.8\" font-family=\"Times,serif\" font-size=\"14.00\">yes, missing</text>\n",
       "</g>\n",
       "<!-- 10 -->\n",
       "<g id=\"node23\" class=\"node\">\n",
       "<title>10</title>\n",
       "<ellipse fill=\"none\" stroke=\"black\" cx=\"1764.64\" cy=\"-279\" rx=\"59.29\" ry=\"18\"/>\n",
       "<text text-anchor=\"middle\" x=\"1764.64\" y=\"-275.3\" font-family=\"Times,serif\" font-size=\"14.00\">az_002&lt;5161</text>\n",
       "</g>\n",
       "<!-- 4&#45;&gt;10 -->\n",
       "<g id=\"edge22\" class=\"edge\">\n",
       "<title>4&#45;&gt;10</title>\n",
       "<path fill=\"none\" stroke=\"#ff0000\" d=\"M1739.12,-347.8C1743.54,-336.05 1749.49,-320.24 1754.54,-306.84\"/>\n",
       "<polygon fill=\"#ff0000\" stroke=\"#ff0000\" points=\"1757.93,-307.77 1758.18,-297.18 1751.38,-305.3 1757.93,-307.77\"/>\n",
       "<text text-anchor=\"middle\" x=\"1757.64\" y=\"-318.8\" font-family=\"Times,serif\" font-size=\"14.00\">no</text>\n",
       "</g>\n",
       "<!-- 15 -->\n",
       "<g id=\"node8\" class=\"node\">\n",
       "<title>15</title>\n",
       "<ellipse fill=\"none\" stroke=\"black\" cx=\"424.64\" cy=\"-192\" rx=\"68.49\" ry=\"18\"/>\n",
       "<text text-anchor=\"middle\" x=\"424.64\" y=\"-188.3\" font-family=\"Times,serif\" font-size=\"14.00\">ay_004&lt;257031</text>\n",
       "</g>\n",
       "<!-- 7&#45;&gt;15 -->\n",
       "<g id=\"edge7\" class=\"edge\">\n",
       "<title>7&#45;&gt;15</title>\n",
       "<path fill=\"none\" stroke=\"#0000ff\" d=\"M646.57,-265C600.74,-250.13 525.62,-225.76 475.66,-209.55\"/>\n",
       "<polygon fill=\"#0000ff\" stroke=\"#0000ff\" points=\"476.61,-206.18 466.01,-206.42 474.45,-212.84 476.61,-206.18\"/>\n",
       "<text text-anchor=\"middle\" x=\"606.14\" y=\"-231.8\" font-family=\"Times,serif\" font-size=\"14.00\">yes, missing</text>\n",
       "</g>\n",
       "<!-- 16 -->\n",
       "<g id=\"node9\" class=\"node\">\n",
       "<title>16</title>\n",
       "<ellipse fill=\"none\" stroke=\"black\" cx=\"686.64\" cy=\"-192\" rx=\"63.89\" ry=\"18\"/>\n",
       "<text text-anchor=\"middle\" x=\"686.64\" y=\"-188.3\" font-family=\"Times,serif\" font-size=\"14.00\">az_001&lt;26754</text>\n",
       "</g>\n",
       "<!-- 7&#45;&gt;16 -->\n",
       "<g id=\"edge8\" class=\"edge\">\n",
       "<title>7&#45;&gt;16</title>\n",
       "<path fill=\"none\" stroke=\"#ff0000\" d=\"M686.64,-260.8C686.64,-249.16 686.64,-233.55 686.64,-220.24\"/>\n",
       "<polygon fill=\"#ff0000\" stroke=\"#ff0000\" points=\"690.14,-220.18 686.64,-210.18 683.14,-220.18 690.14,-220.18\"/>\n",
       "<text text-anchor=\"middle\" x=\"693.64\" y=\"-231.8\" font-family=\"Times,serif\" font-size=\"14.00\">no</text>\n",
       "</g>\n",
       "<!-- 17 -->\n",
       "<g id=\"node18\" class=\"node\">\n",
       "<title>17</title>\n",
       "<ellipse fill=\"none\" stroke=\"black\" cx=\"893.64\" cy=\"-192\" rx=\"78.79\" ry=\"18\"/>\n",
       "<text text-anchor=\"middle\" x=\"893.64\" y=\"-188.3\" font-family=\"Times,serif\" font-size=\"14.00\">leaf=&#45;0.559322059</text>\n",
       "</g>\n",
       "<!-- 8&#45;&gt;17 -->\n",
       "<g id=\"edge17\" class=\"edge\">\n",
       "<title>8&#45;&gt;17</title>\n",
       "<path fill=\"none\" stroke=\"#ff0000\" d=\"M930.33,-260.8C923.81,-248.74 914.97,-232.4 907.6,-218.79\"/>\n",
       "<polygon fill=\"#ff0000\" stroke=\"#ff0000\" points=\"910.62,-217.01 902.78,-209.89 904.46,-220.35 910.62,-217.01\"/>\n",
       "<text text-anchor=\"middle\" x=\"926.64\" y=\"-231.8\" font-family=\"Times,serif\" font-size=\"14.00\">no</text>\n",
       "</g>\n",
       "<!-- 18 -->\n",
       "<g id=\"node19\" class=\"node\">\n",
       "<title>18</title>\n",
       "<ellipse fill=\"none\" stroke=\"black\" cx=\"1040.64\" cy=\"-192\" rx=\"50.89\" ry=\"18\"/>\n",
       "<text text-anchor=\"middle\" x=\"1040.64\" y=\"-188.3\" font-family=\"Times,serif\" font-size=\"14.00\">ax_000&lt;57</text>\n",
       "</g>\n",
       "<!-- 8&#45;&gt;18 -->\n",
       "<g id=\"edge18\" class=\"edge\">\n",
       "<title>8&#45;&gt;18</title>\n",
       "<path fill=\"none\" stroke=\"#0000ff\" d=\"M959.12,-261.61C974.68,-248.51 996.67,-230.01 1013.89,-215.51\"/>\n",
       "<polygon fill=\"#0000ff\" stroke=\"#0000ff\" points=\"1016.51,-217.88 1021.91,-208.76 1012.01,-212.52 1016.51,-217.88\"/>\n",
       "<text text-anchor=\"middle\" x=\"1031.14\" y=\"-231.8\" font-family=\"Times,serif\" font-size=\"14.00\">yes, missing</text>\n",
       "</g>\n",
       "<!-- 31 -->\n",
       "<g id=\"node10\" class=\"node\">\n",
       "<title>31</title>\n",
       "<ellipse fill=\"none\" stroke=\"black\" cx=\"253.64\" cy=\"-105\" rx=\"63.09\" ry=\"18\"/>\n",
       "<text text-anchor=\"middle\" x=\"253.64\" y=\"-101.3\" font-family=\"Times,serif\" font-size=\"14.00\">cs_007&lt;63968</text>\n",
       "</g>\n",
       "<!-- 15&#45;&gt;31 -->\n",
       "<g id=\"edge9\" class=\"edge\">\n",
       "<title>15&#45;&gt;31</title>\n",
       "<path fill=\"none\" stroke=\"#0000ff\" d=\"M392.94,-176.01C380.09,-169.88 365.12,-162.67 351.64,-156 331.82,-146.19 309.87,-135.02 291.78,-125.74\"/>\n",
       "<polygon fill=\"#0000ff\" stroke=\"#0000ff\" points=\"293.2,-122.53 282.71,-121.07 290,-128.75 293.2,-122.53\"/>\n",
       "<text text-anchor=\"middle\" x=\"386.14\" y=\"-144.8\" font-family=\"Times,serif\" font-size=\"14.00\">yes, missing</text>\n",
       "</g>\n",
       "<!-- 32 -->\n",
       "<g id=\"node11\" class=\"node\">\n",
       "<title>32</title>\n",
       "<ellipse fill=\"none\" stroke=\"black\" cx=\"424.64\" cy=\"-105\" rx=\"53.09\" ry=\"18\"/>\n",
       "<text text-anchor=\"middle\" x=\"424.64\" y=\"-101.3\" font-family=\"Times,serif\" font-size=\"14.00\">aj_000&lt;126</text>\n",
       "</g>\n",
       "<!-- 15&#45;&gt;32 -->\n",
       "<g id=\"edge10\" class=\"edge\">\n",
       "<title>15&#45;&gt;32</title>\n",
       "<path fill=\"none\" stroke=\"#ff0000\" d=\"M424.64,-173.8C424.64,-162.16 424.64,-146.55 424.64,-133.24\"/>\n",
       "<polygon fill=\"#ff0000\" stroke=\"#ff0000\" points=\"428.14,-133.18 424.64,-123.18 421.14,-133.18 428.14,-133.18\"/>\n",
       "<text text-anchor=\"middle\" x=\"431.64\" y=\"-144.8\" font-family=\"Times,serif\" font-size=\"14.00\">no</text>\n",
       "</g>\n",
       "<!-- 33 -->\n",
       "<g id=\"node16\" class=\"node\">\n",
       "<title>33</title>\n",
       "<ellipse fill=\"none\" stroke=\"black\" cx=\"571.64\" cy=\"-105\" rx=\"75.29\" ry=\"18\"/>\n",
       "<text text-anchor=\"middle\" x=\"571.64\" y=\"-101.3\" font-family=\"Times,serif\" font-size=\"14.00\">leaf=0.580327868</text>\n",
       "</g>\n",
       "<!-- 16&#45;&gt;33 -->\n",
       "<g id=\"edge15\" class=\"edge\">\n",
       "<title>16&#45;&gt;33</title>\n",
       "<path fill=\"none\" stroke=\"#ff0000\" d=\"M665.01,-175.01C647.25,-161.88 621.88,-143.13 602.07,-128.49\"/>\n",
       "<polygon fill=\"#ff0000\" stroke=\"#ff0000\" points=\"604.08,-125.63 593.96,-122.5 599.92,-131.25 604.08,-125.63\"/>\n",
       "<text text-anchor=\"middle\" x=\"643.64\" y=\"-144.8\" font-family=\"Times,serif\" font-size=\"14.00\">no</text>\n",
       "</g>\n",
       "<!-- 34 -->\n",
       "<g id=\"node17\" class=\"node\">\n",
       "<title>34</title>\n",
       "<ellipse fill=\"none\" stroke=\"black\" cx=\"743.64\" cy=\"-105\" rx=\"78.79\" ry=\"18\"/>\n",
       "<text text-anchor=\"middle\" x=\"743.64\" y=\"-101.3\" font-family=\"Times,serif\" font-size=\"14.00\">leaf=&#45;0.579130471</text>\n",
       "</g>\n",
       "<!-- 16&#45;&gt;34 -->\n",
       "<g id=\"edge16\" class=\"edge\">\n",
       "<title>16&#45;&gt;34</title>\n",
       "<path fill=\"none\" stroke=\"#0000ff\" d=\"M697.9,-174.21C706.05,-162.06 717.2,-145.43 726.45,-131.63\"/>\n",
       "<polygon fill=\"#0000ff\" stroke=\"#0000ff\" points=\"729.55,-133.3 732.21,-123.05 723.73,-129.41 729.55,-133.3\"/>\n",
       "<text text-anchor=\"middle\" x=\"753.14\" y=\"-144.8\" font-family=\"Times,serif\" font-size=\"14.00\">yes, missing</text>\n",
       "</g>\n",
       "<!-- 51 -->\n",
       "<g id=\"node12\" class=\"node\">\n",
       "<title>51</title>\n",
       "<ellipse fill=\"none\" stroke=\"black\" cx=\"78.64\" cy=\"-18\" rx=\"78.79\" ry=\"18\"/>\n",
       "<text text-anchor=\"middle\" x=\"78.64\" y=\"-14.3\" font-family=\"Times,serif\" font-size=\"14.00\">leaf=&#45;0.586332202</text>\n",
       "</g>\n",
       "<!-- 31&#45;&gt;51 -->\n",
       "<g id=\"edge11\" class=\"edge\">\n",
       "<title>31&#45;&gt;51</title>\n",
       "<path fill=\"none\" stroke=\"#0000ff\" d=\"M222.71,-89.24C209.71,-83.02 194.43,-75.68 180.64,-69 160.45,-59.21 138.06,-48.25 119.41,-39.09\"/>\n",
       "<polygon fill=\"#0000ff\" stroke=\"#0000ff\" points=\"120.83,-35.88 110.31,-34.61 117.74,-42.16 120.83,-35.88\"/>\n",
       "<text text-anchor=\"middle\" x=\"215.14\" y=\"-57.8\" font-family=\"Times,serif\" font-size=\"14.00\">yes, missing</text>\n",
       "</g>\n",
       "<!-- 52 -->\n",
       "<g id=\"node13\" class=\"node\">\n",
       "<title>52</title>\n",
       "<ellipse fill=\"none\" stroke=\"black\" cx=\"253.64\" cy=\"-18\" rx=\"78.79\" ry=\"18\"/>\n",
       "<text text-anchor=\"middle\" x=\"253.64\" y=\"-14.3\" font-family=\"Times,serif\" font-size=\"14.00\">leaf=&#45;0.306720972</text>\n",
       "</g>\n",
       "<!-- 31&#45;&gt;52 -->\n",
       "<g id=\"edge12\" class=\"edge\">\n",
       "<title>31&#45;&gt;52</title>\n",
       "<path fill=\"none\" stroke=\"#ff0000\" d=\"M253.64,-86.8C253.64,-75.16 253.64,-59.55 253.64,-46.24\"/>\n",
       "<polygon fill=\"#ff0000\" stroke=\"#ff0000\" points=\"257.14,-46.18 253.64,-36.18 250.14,-46.18 257.14,-46.18\"/>\n",
       "<text text-anchor=\"middle\" x=\"260.64\" y=\"-57.8\" font-family=\"Times,serif\" font-size=\"14.00\">no</text>\n",
       "</g>\n",
       "<!-- 53 -->\n",
       "<g id=\"node14\" class=\"node\">\n",
       "<title>53</title>\n",
       "<ellipse fill=\"none\" stroke=\"black\" cx=\"424.64\" cy=\"-18\" rx=\"74.19\" ry=\"18\"/>\n",
       "<text text-anchor=\"middle\" x=\"424.64\" y=\"-14.3\" font-family=\"Times,serif\" font-size=\"14.00\">leaf=&#45;0.41538465</text>\n",
       "</g>\n",
       "<!-- 32&#45;&gt;53 -->\n",
       "<g id=\"edge13\" class=\"edge\">\n",
       "<title>32&#45;&gt;53</title>\n",
       "<path fill=\"none\" stroke=\"#ff0000\" d=\"M424.64,-86.8C424.64,-75.16 424.64,-59.55 424.64,-46.24\"/>\n",
       "<polygon fill=\"#ff0000\" stroke=\"#ff0000\" points=\"428.14,-46.18 424.64,-36.18 421.14,-46.18 428.14,-46.18\"/>\n",
       "<text text-anchor=\"middle\" x=\"431.64\" y=\"-57.8\" font-family=\"Times,serif\" font-size=\"14.00\">no</text>\n",
       "</g>\n",
       "<!-- 54 -->\n",
       "<g id=\"node15\" class=\"node\">\n",
       "<title>54</title>\n",
       "<ellipse fill=\"none\" stroke=\"black\" cx=\"591.64\" cy=\"-18\" rx=\"75.29\" ry=\"18\"/>\n",
       "<text text-anchor=\"middle\" x=\"591.64\" y=\"-14.3\" font-family=\"Times,serif\" font-size=\"14.00\">leaf=0.561904788</text>\n",
       "</g>\n",
       "<!-- 32&#45;&gt;54 -->\n",
       "<g id=\"edge14\" class=\"edge\">\n",
       "<title>32&#45;&gt;54</title>\n",
       "<path fill=\"none\" stroke=\"#0000ff\" d=\"M452.97,-89.58C480.21,-75.72 521.63,-54.63 552.11,-39.12\"/>\n",
       "<polygon fill=\"#0000ff\" stroke=\"#0000ff\" points=\"553.87,-42.15 561.19,-34.5 550.69,-35.92 553.87,-42.15\"/>\n",
       "<text text-anchor=\"middle\" x=\"553.14\" y=\"-57.8\" font-family=\"Times,serif\" font-size=\"14.00\">yes, missing</text>\n",
       "</g>\n",
       "<!-- 35 -->\n",
       "<g id=\"node20\" class=\"node\">\n",
       "<title>35</title>\n",
       "<ellipse fill=\"none\" stroke=\"black\" cx=\"915.64\" cy=\"-105\" rx=\"75.29\" ry=\"18\"/>\n",
       "<text text-anchor=\"middle\" x=\"915.64\" y=\"-101.3\" font-family=\"Times,serif\" font-size=\"14.00\">leaf=0.552000046</text>\n",
       "</g>\n",
       "<!-- 18&#45;&gt;35 -->\n",
       "<g id=\"edge19\" class=\"edge\">\n",
       "<title>18&#45;&gt;35</title>\n",
       "<path fill=\"none\" stroke=\"#ff0000\" d=\"M1018.3,-175.8C998.71,-162.48 969.99,-142.95 947.91,-127.94\"/>\n",
       "<polygon fill=\"#ff0000\" stroke=\"#ff0000\" points=\"949.74,-124.95 939.5,-122.22 945.8,-130.74 949.74,-124.95\"/>\n",
       "<text text-anchor=\"middle\" x=\"992.64\" y=\"-144.8\" font-family=\"Times,serif\" font-size=\"14.00\">no</text>\n",
       "</g>\n",
       "<!-- 36 -->\n",
       "<g id=\"node21\" class=\"node\">\n",
       "<title>36</title>\n",
       "<ellipse fill=\"none\" stroke=\"black\" cx=\"1087.64\" cy=\"-105\" rx=\"78.79\" ry=\"18\"/>\n",
       "<text text-anchor=\"middle\" x=\"1087.64\" y=\"-101.3\" font-family=\"Times,serif\" font-size=\"14.00\">leaf=&#45;0.458823562</text>\n",
       "</g>\n",
       "<!-- 18&#45;&gt;36 -->\n",
       "<g id=\"edge20\" class=\"edge\">\n",
       "<title>18&#45;&gt;36</title>\n",
       "<path fill=\"none\" stroke=\"#0000ff\" d=\"M1049.93,-174.21C1056.58,-162.18 1065.66,-145.75 1073.25,-132.03\"/>\n",
       "<polygon fill=\"#0000ff\" stroke=\"#0000ff\" points=\"1076.44,-133.49 1078.22,-123.05 1070.31,-130.11 1076.44,-133.49\"/>\n",
       "<text text-anchor=\"middle\" x=\"1102.14\" y=\"-144.8\" font-family=\"Times,serif\" font-size=\"14.00\">yes, missing</text>\n",
       "</g>\n",
       "<!-- 19 -->\n",
       "<g id=\"node24\" class=\"node\">\n",
       "<title>19</title>\n",
       "<ellipse fill=\"none\" stroke=\"black\" cx=\"1420.64\" cy=\"-192\" rx=\"61.99\" ry=\"18\"/>\n",
       "<text text-anchor=\"middle\" x=\"1420.64\" y=\"-188.3\" font-family=\"Times,serif\" font-size=\"14.00\">aj_000&lt;15201</text>\n",
       "</g>\n",
       "<!-- 9&#45;&gt;19 -->\n",
       "<g id=\"edge23\" class=\"edge\">\n",
       "<title>9&#45;&gt;19</title>\n",
       "<path fill=\"none\" stroke=\"#0000ff\" d=\"M1575.5,-263.39C1544.09,-249.11 1496.16,-227.32 1461.94,-211.77\"/>\n",
       "<polygon fill=\"#0000ff\" stroke=\"#0000ff\" points=\"1463.23,-208.52 1452.68,-207.56 1460.34,-214.89 1463.23,-208.52\"/>\n",
       "<text text-anchor=\"middle\" x=\"1560.14\" y=\"-231.8\" font-family=\"Times,serif\" font-size=\"14.00\">yes, missing</text>\n",
       "</g>\n",
       "<!-- 20 -->\n",
       "<g id=\"node25\" class=\"node\">\n",
       "<title>20</title>\n",
       "<ellipse fill=\"none\" stroke=\"black\" cx=\"1607.64\" cy=\"-192\" rx=\"55.49\" ry=\"18\"/>\n",
       "<text text-anchor=\"middle\" x=\"1607.64\" y=\"-188.3\" font-family=\"Times,serif\" font-size=\"14.00\">ax_000&lt;255</text>\n",
       "</g>\n",
       "<!-- 9&#45;&gt;20 -->\n",
       "<g id=\"edge24\" class=\"edge\">\n",
       "<title>9&#45;&gt;20</title>\n",
       "<path fill=\"none\" stroke=\"#ff0000\" d=\"M1607.64,-260.8C1607.64,-249.16 1607.64,-233.55 1607.64,-220.24\"/>\n",
       "<polygon fill=\"#ff0000\" stroke=\"#ff0000\" points=\"1611.14,-220.18 1607.64,-210.18 1604.14,-220.18 1611.14,-220.18\"/>\n",
       "<text text-anchor=\"middle\" x=\"1614.64\" y=\"-231.8\" font-family=\"Times,serif\" font-size=\"14.00\">no</text>\n",
       "</g>\n",
       "<!-- 21 -->\n",
       "<g id=\"node34\" class=\"node\">\n",
       "<title>21</title>\n",
       "<ellipse fill=\"none\" stroke=\"black\" cx=\"1764.64\" cy=\"-192\" rx=\"78.79\" ry=\"18\"/>\n",
       "<text text-anchor=\"middle\" x=\"1764.64\" y=\"-188.3\" font-family=\"Times,serif\" font-size=\"14.00\">leaf=&#45;0.584615409</text>\n",
       "</g>\n",
       "<!-- 10&#45;&gt;21 -->\n",
       "<g id=\"edge33\" class=\"edge\">\n",
       "<title>10&#45;&gt;21</title>\n",
       "<path fill=\"none\" stroke=\"#ff0000\" d=\"M1764.64,-260.8C1764.64,-249.16 1764.64,-233.55 1764.64,-220.24\"/>\n",
       "<polygon fill=\"#ff0000\" stroke=\"#ff0000\" points=\"1768.14,-220.18 1764.64,-210.18 1761.14,-220.18 1768.14,-220.18\"/>\n",
       "<text text-anchor=\"middle\" x=\"1771.64\" y=\"-231.8\" font-family=\"Times,serif\" font-size=\"14.00\">no</text>\n",
       "</g>\n",
       "<!-- 22 -->\n",
       "<g id=\"node35\" class=\"node\">\n",
       "<title>22</title>\n",
       "<ellipse fill=\"none\" stroke=\"black\" cx=\"1941.64\" cy=\"-192\" rx=\"72.59\" ry=\"18\"/>\n",
       "<text text-anchor=\"middle\" x=\"1941.64\" y=\"-188.3\" font-family=\"Times,serif\" font-size=\"14.00\">ay_008&lt;1763707</text>\n",
       "</g>\n",
       "<!-- 10&#45;&gt;22 -->\n",
       "<g id=\"edge34\" class=\"edge\">\n",
       "<title>10&#45;&gt;22</title>\n",
       "<path fill=\"none\" stroke=\"#0000ff\" d=\"M1795.07,-263.39C1824.22,-249.39 1868.41,-228.17 1900.65,-212.69\"/>\n",
       "<polygon fill=\"#0000ff\" stroke=\"#0000ff\" points=\"1902.32,-215.76 1909.82,-208.28 1899.29,-209.45 1902.32,-215.76\"/>\n",
       "<text text-anchor=\"middle\" x=\"1899.14\" y=\"-231.8\" font-family=\"Times,serif\" font-size=\"14.00\">yes, missing</text>\n",
       "</g>\n",
       "<!-- 37 -->\n",
       "<g id=\"node26\" class=\"node\">\n",
       "<title>37</title>\n",
       "<ellipse fill=\"none\" stroke=\"black\" cx=\"1262.64\" cy=\"-105\" rx=\"78.79\" ry=\"18\"/>\n",
       "<text text-anchor=\"middle\" x=\"1262.64\" y=\"-101.3\" font-family=\"Times,serif\" font-size=\"14.00\">leaf=&#45;0.597905815</text>\n",
       "</g>\n",
       "<!-- 19&#45;&gt;37 -->\n",
       "<g id=\"edge25\" class=\"edge\">\n",
       "<title>19&#45;&gt;37</title>\n",
       "<path fill=\"none\" stroke=\"#0000ff\" d=\"M1388.73,-176.42C1375.85,-170.34 1360.92,-163.07 1347.64,-156 1330.84,-147.05 1312.6,-136.45 1297.34,-127.31\"/>\n",
       "<polygon fill=\"#0000ff\" stroke=\"#0000ff\" points=\"1299.11,-124.29 1288.74,-122.12 1295.49,-130.28 1299.11,-124.29\"/>\n",
       "<text text-anchor=\"middle\" x=\"1382.14\" y=\"-144.8\" font-family=\"Times,serif\" font-size=\"14.00\">yes, missing</text>\n",
       "</g>\n",
       "<!-- 38 -->\n",
       "<g id=\"node27\" class=\"node\">\n",
       "<title>38</title>\n",
       "<ellipse fill=\"none\" stroke=\"black\" cx=\"1420.64\" cy=\"-105\" rx=\"61.99\" ry=\"18\"/>\n",
       "<text text-anchor=\"middle\" x=\"1420.64\" y=\"-101.3\" font-family=\"Times,serif\" font-size=\"14.00\">aj_000&lt;15882</text>\n",
       "</g>\n",
       "<!-- 19&#45;&gt;38 -->\n",
       "<g id=\"edge26\" class=\"edge\">\n",
       "<title>19&#45;&gt;38</title>\n",
       "<path fill=\"none\" stroke=\"#ff0000\" d=\"M1420.64,-173.8C1420.64,-162.16 1420.64,-146.55 1420.64,-133.24\"/>\n",
       "<polygon fill=\"#ff0000\" stroke=\"#ff0000\" points=\"1424.14,-133.18 1420.64,-123.18 1417.14,-133.18 1424.14,-133.18\"/>\n",
       "<text text-anchor=\"middle\" x=\"1427.64\" y=\"-144.8\" font-family=\"Times,serif\" font-size=\"14.00\">no</text>\n",
       "</g>\n",
       "<!-- 39 -->\n",
       "<g id=\"node30\" class=\"node\">\n",
       "<title>39</title>\n",
       "<ellipse fill=\"none\" stroke=\"black\" cx=\"1586.64\" cy=\"-105\" rx=\"83.69\" ry=\"18\"/>\n",
       "<text text-anchor=\"middle\" x=\"1586.64\" y=\"-101.3\" font-family=\"Times,serif\" font-size=\"14.00\">ck_000&lt;984706.062</text>\n",
       "</g>\n",
       "<!-- 20&#45;&gt;39 -->\n",
       "<g id=\"edge29\" class=\"edge\">\n",
       "<title>20&#45;&gt;39</title>\n",
       "<path fill=\"none\" stroke=\"#ff0000\" d=\"M1603.39,-173.8C1600.52,-162.16 1596.66,-146.55 1593.37,-133.24\"/>\n",
       "<polygon fill=\"#ff0000\" stroke=\"#ff0000\" points=\"1596.68,-132.04 1590.89,-123.18 1589.89,-133.72 1596.68,-132.04\"/>\n",
       "<text text-anchor=\"middle\" x=\"1605.64\" y=\"-144.8\" font-family=\"Times,serif\" font-size=\"14.00\">no</text>\n",
       "</g>\n",
       "<!-- 40 -->\n",
       "<g id=\"node31\" class=\"node\">\n",
       "<title>40</title>\n",
       "<ellipse fill=\"none\" stroke=\"black\" cx=\"1766.64\" cy=\"-105\" rx=\"78.79\" ry=\"18\"/>\n",
       "<text text-anchor=\"middle\" x=\"1766.64\" y=\"-101.3\" font-family=\"Times,serif\" font-size=\"14.00\">leaf=&#45;0.577777803</text>\n",
       "</g>\n",
       "<!-- 20&#45;&gt;40 -->\n",
       "<g id=\"edge30\" class=\"edge\">\n",
       "<title>20&#45;&gt;40</title>\n",
       "<path fill=\"none\" stroke=\"#0000ff\" d=\"M1635.34,-176.19C1661.03,-162.46 1699.51,-141.89 1728.17,-126.57\"/>\n",
       "<polygon fill=\"#0000ff\" stroke=\"#0000ff\" points=\"1729.94,-129.59 1737.11,-121.79 1726.64,-123.42 1729.94,-129.59\"/>\n",
       "<text text-anchor=\"middle\" x=\"1732.14\" y=\"-144.8\" font-family=\"Times,serif\" font-size=\"14.00\">yes, missing</text>\n",
       "</g>\n",
       "<!-- 55 -->\n",
       "<g id=\"node28\" class=\"node\">\n",
       "<title>55</title>\n",
       "<ellipse fill=\"none\" stroke=\"black\" cx=\"1247.64\" cy=\"-18\" rx=\"75.29\" ry=\"18\"/>\n",
       "<text text-anchor=\"middle\" x=\"1247.64\" y=\"-14.3\" font-family=\"Times,serif\" font-size=\"14.00\">leaf=0.561904788</text>\n",
       "</g>\n",
       "<!-- 38&#45;&gt;55 -->\n",
       "<g id=\"edge27\" class=\"edge\">\n",
       "<title>38&#45;&gt;55</title>\n",
       "<path fill=\"none\" stroke=\"#ff0000\" d=\"M1390.51,-89.19C1362.26,-75.31 1319.8,-54.45 1288.51,-39.08\"/>\n",
       "<polygon fill=\"#ff0000\" stroke=\"#ff0000\" points=\"1289.7,-35.77 1279.19,-34.5 1286.62,-42.05 1289.7,-35.77\"/>\n",
       "<text text-anchor=\"middle\" x=\"1351.64\" y=\"-57.8\" font-family=\"Times,serif\" font-size=\"14.00\">no</text>\n",
       "</g>\n",
       "<!-- 56 -->\n",
       "<g id=\"node29\" class=\"node\">\n",
       "<title>56</title>\n",
       "<ellipse fill=\"none\" stroke=\"black\" cx=\"1419.64\" cy=\"-18\" rx=\"78.79\" ry=\"18\"/>\n",
       "<text text-anchor=\"middle\" x=\"1419.64\" y=\"-14.3\" font-family=\"Times,serif\" font-size=\"14.00\">leaf=&#45;0.333333373</text>\n",
       "</g>\n",
       "<!-- 38&#45;&gt;56 -->\n",
       "<g id=\"edge28\" class=\"edge\">\n",
       "<title>38&#45;&gt;56</title>\n",
       "<path fill=\"none\" stroke=\"#0000ff\" d=\"M1420.44,-86.8C1420.3,-75.16 1420.12,-59.55 1419.96,-46.24\"/>\n",
       "<polygon fill=\"#0000ff\" stroke=\"#0000ff\" points=\"1423.46,-46.13 1419.85,-36.18 1416.46,-46.22 1423.46,-46.13\"/>\n",
       "<text text-anchor=\"middle\" x=\"1455.14\" y=\"-57.8\" font-family=\"Times,serif\" font-size=\"14.00\">yes, missing</text>\n",
       "</g>\n",
       "<!-- 57 -->\n",
       "<g id=\"node32\" class=\"node\">\n",
       "<title>57</title>\n",
       "<ellipse fill=\"none\" stroke=\"black\" cx=\"1587.64\" cy=\"-18\" rx=\"71.49\" ry=\"18\"/>\n",
       "<text text-anchor=\"middle\" x=\"1587.64\" y=\"-14.3\" font-family=\"Times,serif\" font-size=\"14.00\">leaf=0.54698801</text>\n",
       "</g>\n",
       "<!-- 39&#45;&gt;57 -->\n",
       "<g id=\"edge31\" class=\"edge\">\n",
       "<title>39&#45;&gt;57</title>\n",
       "<path fill=\"none\" stroke=\"#ff0000\" d=\"M1586.85,-86.8C1586.98,-75.16 1587.17,-59.55 1587.32,-46.24\"/>\n",
       "<polygon fill=\"#ff0000\" stroke=\"#ff0000\" points=\"1590.82,-46.22 1587.44,-36.18 1583.82,-46.13 1590.82,-46.22\"/>\n",
       "<text text-anchor=\"middle\" x=\"1594.64\" y=\"-57.8\" font-family=\"Times,serif\" font-size=\"14.00\">no</text>\n",
       "</g>\n",
       "<!-- 58 -->\n",
       "<g id=\"node33\" class=\"node\">\n",
       "<title>58</title>\n",
       "<ellipse fill=\"none\" stroke=\"black\" cx=\"1755.64\" cy=\"-18\" rx=\"78.79\" ry=\"18\"/>\n",
       "<text text-anchor=\"middle\" x=\"1755.64\" y=\"-14.3\" font-family=\"Times,serif\" font-size=\"14.00\">leaf=&#45;0.533333361</text>\n",
       "</g>\n",
       "<!-- 39&#45;&gt;58 -->\n",
       "<g id=\"edge32\" class=\"edge\">\n",
       "<title>39&#45;&gt;58</title>\n",
       "<path fill=\"none\" stroke=\"#0000ff\" d=\"M1618.03,-88.21C1645.51,-74.39 1685.59,-54.24 1715.41,-39.23\"/>\n",
       "<polygon fill=\"#0000ff\" stroke=\"#0000ff\" points=\"1717.34,-42.18 1724.7,-34.56 1714.2,-35.93 1717.34,-42.18\"/>\n",
       "<text text-anchor=\"middle\" x=\"1716.14\" y=\"-57.8\" font-family=\"Times,serif\" font-size=\"14.00\">yes, missing</text>\n",
       "</g>\n",
       "<!-- 41 -->\n",
       "<g id=\"node36\" class=\"node\">\n",
       "<title>41</title>\n",
       "<ellipse fill=\"none\" stroke=\"black\" cx=\"1941.64\" cy=\"-105\" rx=\"78.79\" ry=\"18\"/>\n",
       "<text text-anchor=\"middle\" x=\"1941.64\" y=\"-101.3\" font-family=\"Times,serif\" font-size=\"14.00\">leaf=&#45;0.571428597</text>\n",
       "</g>\n",
       "<!-- 22&#45;&gt;41 -->\n",
       "<g id=\"edge35\" class=\"edge\">\n",
       "<title>22&#45;&gt;41</title>\n",
       "<path fill=\"none\" stroke=\"#ff0000\" d=\"M1941.64,-173.8C1941.64,-162.16 1941.64,-146.55 1941.64,-133.24\"/>\n",
       "<polygon fill=\"#ff0000\" stroke=\"#ff0000\" points=\"1945.14,-133.18 1941.64,-123.18 1938.14,-133.18 1945.14,-133.18\"/>\n",
       "<text text-anchor=\"middle\" x=\"1948.64\" y=\"-144.8\" font-family=\"Times,serif\" font-size=\"14.00\">no</text>\n",
       "</g>\n",
       "<!-- 42 -->\n",
       "<g id=\"node37\" class=\"node\">\n",
       "<title>42</title>\n",
       "<ellipse fill=\"none\" stroke=\"black\" cx=\"2110.64\" cy=\"-105\" rx=\"72.59\" ry=\"18\"/>\n",
       "<text text-anchor=\"middle\" x=\"2110.64\" y=\"-101.3\" font-family=\"Times,serif\" font-size=\"14.00\">cb_000&lt;1001150</text>\n",
       "</g>\n",
       "<!-- 22&#45;&gt;42 -->\n",
       "<g id=\"edge36\" class=\"edge\">\n",
       "<title>22&#45;&gt;42</title>\n",
       "<path fill=\"none\" stroke=\"#0000ff\" d=\"M1972.25,-175.61C1999.92,-161.69 2040.82,-141.12 2070.99,-125.94\"/>\n",
       "<polygon fill=\"#0000ff\" stroke=\"#0000ff\" points=\"2072.62,-129.04 2079.98,-121.42 2069.47,-122.79 2072.62,-129.04\"/>\n",
       "<text text-anchor=\"middle\" x=\"2071.14\" y=\"-144.8\" font-family=\"Times,serif\" font-size=\"14.00\">yes, missing</text>\n",
       "</g>\n",
       "<!-- 59 -->\n",
       "<g id=\"node38\" class=\"node\">\n",
       "<title>59</title>\n",
       "<ellipse fill=\"none\" stroke=\"black\" cx=\"1938.64\" cy=\"-18\" rx=\"75.29\" ry=\"18\"/>\n",
       "<text text-anchor=\"middle\" x=\"1938.64\" y=\"-14.3\" font-family=\"Times,serif\" font-size=\"14.00\">leaf=0.451170057</text>\n",
       "</g>\n",
       "<!-- 42&#45;&gt;59 -->\n",
       "<g id=\"edge37\" class=\"edge\">\n",
       "<title>42&#45;&gt;59</title>\n",
       "<path fill=\"none\" stroke=\"#ff0000\" d=\"M2079.5,-88.61C2051.33,-74.69 2009.7,-54.12 1979,-38.94\"/>\n",
       "<polygon fill=\"#ff0000\" stroke=\"#ff0000\" points=\"1980.37,-35.71 1969.85,-34.42 1977.26,-41.99 1980.37,-35.71\"/>\n",
       "<text text-anchor=\"middle\" x=\"2042.64\" y=\"-57.8\" font-family=\"Times,serif\" font-size=\"14.00\">no</text>\n",
       "</g>\n",
       "<!-- 60 -->\n",
       "<g id=\"node39\" class=\"node\">\n",
       "<title>60</title>\n",
       "<ellipse fill=\"none\" stroke=\"black\" cx=\"2110.64\" cy=\"-18\" rx=\"78.79\" ry=\"18\"/>\n",
       "<text text-anchor=\"middle\" x=\"2110.64\" y=\"-14.3\" font-family=\"Times,serif\" font-size=\"14.00\">leaf=&#45;0.556363642</text>\n",
       "</g>\n",
       "<!-- 42&#45;&gt;60 -->\n",
       "<g id=\"edge38\" class=\"edge\">\n",
       "<title>42&#45;&gt;60</title>\n",
       "<path fill=\"none\" stroke=\"#0000ff\" d=\"M2110.64,-86.8C2110.64,-75.16 2110.64,-59.55 2110.64,-46.24\"/>\n",
       "<polygon fill=\"#0000ff\" stroke=\"#0000ff\" points=\"2114.14,-46.18 2110.64,-36.18 2107.14,-46.18 2114.14,-46.18\"/>\n",
       "<text text-anchor=\"middle\" x=\"2145.14\" y=\"-57.8\" font-family=\"Times,serif\" font-size=\"14.00\">yes, missing</text>\n",
       "</g>\n",
       "<!-- 11 -->\n",
       "<g id=\"node42\" class=\"node\">\n",
       "<title>11</title>\n",
       "<ellipse fill=\"none\" stroke=\"black\" cx=\"2283.64\" cy=\"-279\" rx=\"72.29\" ry=\"18\"/>\n",
       "<text text-anchor=\"middle\" x=\"2283.64\" y=\"-275.3\" font-family=\"Times,serif\" font-size=\"14.00\">aa_000&lt;1093290</text>\n",
       "</g>\n",
       "<!-- 5&#45;&gt;11 -->\n",
       "<g id=\"edge41\" class=\"edge\">\n",
       "<title>5&#45;&gt;11</title>\n",
       "<path fill=\"none\" stroke=\"#ff0000\" d=\"M2346.6,-348.61C2335.02,-335.99 2318.84,-318.36 2305.79,-304.13\"/>\n",
       "<polygon fill=\"#ff0000\" stroke=\"#ff0000\" points=\"2308.24,-301.63 2298.9,-296.63 2303.08,-306.36 2308.24,-301.63\"/>\n",
       "<text text-anchor=\"middle\" x=\"2334.64\" y=\"-318.8\" font-family=\"Times,serif\" font-size=\"14.00\">no</text>\n",
       "</g>\n",
       "<!-- 12 -->\n",
       "<g id=\"node43\" class=\"node\">\n",
       "<title>12</title>\n",
       "<ellipse fill=\"none\" stroke=\"black\" cx=\"2455.64\" cy=\"-279\" rx=\"50.89\" ry=\"18\"/>\n",
       "<text text-anchor=\"middle\" x=\"2455.64\" y=\"-275.3\" font-family=\"Times,serif\" font-size=\"14.00\">bc_000&lt;39</text>\n",
       "</g>\n",
       "<!-- 5&#45;&gt;12 -->\n",
       "<g id=\"edge42\" class=\"edge\">\n",
       "<title>5&#45;&gt;12</title>\n",
       "<path fill=\"none\" stroke=\"#0000ff\" d=\"M2379.32,-349.01C2393.77,-335.95 2414.36,-317.33 2430.51,-302.72\"/>\n",
       "<polygon fill=\"#0000ff\" stroke=\"#0000ff\" points=\"2432.97,-305.22 2438.04,-295.92 2428.28,-300.03 2432.97,-305.22\"/>\n",
       "<text text-anchor=\"middle\" x=\"2449.14\" y=\"-318.8\" font-family=\"Times,serif\" font-size=\"14.00\">yes, missing</text>\n",
       "</g>\n",
       "<!-- 13 -->\n",
       "<g id=\"node54\" class=\"node\">\n",
       "<title>13</title>\n",
       "<ellipse fill=\"none\" stroke=\"black\" cx=\"3340.64\" cy=\"-279\" rx=\"72.29\" ry=\"18\"/>\n",
       "<text text-anchor=\"middle\" x=\"3340.64\" y=\"-275.3\" font-family=\"Times,serif\" font-size=\"14.00\">ee_005&lt;1956184</text>\n",
       "</g>\n",
       "<!-- 6&#45;&gt;13 -->\n",
       "<g id=\"edge53\" class=\"edge\">\n",
       "<title>6&#45;&gt;13</title>\n",
       "<path fill=\"none\" stroke=\"#0000ff\" d=\"M3340.64,-347.8C3340.64,-336.16 3340.64,-320.55 3340.64,-307.24\"/>\n",
       "<polygon fill=\"#0000ff\" stroke=\"#0000ff\" points=\"3344.14,-307.18 3340.64,-297.18 3337.14,-307.18 3344.14,-307.18\"/>\n",
       "<text text-anchor=\"middle\" x=\"3375.14\" y=\"-318.8\" font-family=\"Times,serif\" font-size=\"14.00\">yes, missing</text>\n",
       "</g>\n",
       "<!-- 14 -->\n",
       "<g id=\"node55\" class=\"node\">\n",
       "<title>14</title>\n",
       "<ellipse fill=\"none\" stroke=\"black\" cx=\"4016.64\" cy=\"-279\" rx=\"76.89\" ry=\"18\"/>\n",
       "<text text-anchor=\"middle\" x=\"4016.64\" y=\"-275.3\" font-family=\"Times,serif\" font-size=\"14.00\">ee_007&lt;26222672</text>\n",
       "</g>\n",
       "<!-- 6&#45;&gt;14 -->\n",
       "<g id=\"edge54\" class=\"edge\">\n",
       "<title>6&#45;&gt;14</title>\n",
       "<path fill=\"none\" stroke=\"#ff0000\" d=\"M3391.73,-358.58C3509.66,-343.75 3801.39,-307.07 3940.5,-289.57\"/>\n",
       "<polygon fill=\"#ff0000\" stroke=\"#ff0000\" points=\"3941.17,-293.02 3950.65,-288.3 3940.29,-286.07 3941.17,-293.02\"/>\n",
       "<text text-anchor=\"middle\" x=\"3726.64\" y=\"-318.8\" font-family=\"Times,serif\" font-size=\"14.00\">no</text>\n",
       "</g>\n",
       "<!-- 23 -->\n",
       "<g id=\"node44\" class=\"node\">\n",
       "<title>23</title>\n",
       "<ellipse fill=\"none\" stroke=\"black\" cx=\"2111.64\" cy=\"-192\" rx=\"78.79\" ry=\"18\"/>\n",
       "<text text-anchor=\"middle\" x=\"2111.64\" y=\"-188.3\" font-family=\"Times,serif\" font-size=\"14.00\">leaf=&#45;0.596875012</text>\n",
       "</g>\n",
       "<!-- 11&#45;&gt;23 -->\n",
       "<g id=\"edge43\" class=\"edge\">\n",
       "<title>11&#45;&gt;23</title>\n",
       "<path fill=\"none\" stroke=\"#0000ff\" d=\"M2251.59,-262.81C2238.82,-256.71 2224.01,-249.58 2210.64,-243 2191.08,-233.37 2169.45,-222.47 2151.41,-213.32\"/>\n",
       "<polygon fill=\"#0000ff\" stroke=\"#0000ff\" points=\"2152.83,-210.12 2142.33,-208.7 2149.66,-216.36 2152.83,-210.12\"/>\n",
       "<text text-anchor=\"middle\" x=\"2245.14\" y=\"-231.8\" font-family=\"Times,serif\" font-size=\"14.00\">yes, missing</text>\n",
       "</g>\n",
       "<!-- 24 -->\n",
       "<g id=\"node45\" class=\"node\">\n",
       "<title>24</title>\n",
       "<ellipse fill=\"none\" stroke=\"black\" cx=\"2283.64\" cy=\"-192\" rx=\"75.29\" ry=\"18\"/>\n",
       "<text text-anchor=\"middle\" x=\"2283.64\" y=\"-188.3\" font-family=\"Times,serif\" font-size=\"14.00\">leaf=0.561904788</text>\n",
       "</g>\n",
       "<!-- 11&#45;&gt;24 -->\n",
       "<g id=\"edge44\" class=\"edge\">\n",
       "<title>11&#45;&gt;24</title>\n",
       "<path fill=\"none\" stroke=\"#ff0000\" d=\"M2283.64,-260.8C2283.64,-249.16 2283.64,-233.55 2283.64,-220.24\"/>\n",
       "<polygon fill=\"#ff0000\" stroke=\"#ff0000\" points=\"2287.14,-220.18 2283.64,-210.18 2280.14,-220.18 2287.14,-220.18\"/>\n",
       "<text text-anchor=\"middle\" x=\"2290.64\" y=\"-231.8\" font-family=\"Times,serif\" font-size=\"14.00\">no</text>\n",
       "</g>\n",
       "<!-- 25 -->\n",
       "<g id=\"node46\" class=\"node\">\n",
       "<title>25</title>\n",
       "<ellipse fill=\"none\" stroke=\"black\" cx=\"2455.64\" cy=\"-192\" rx=\"78.79\" ry=\"18\"/>\n",
       "<text text-anchor=\"middle\" x=\"2455.64\" y=\"-188.3\" font-family=\"Times,serif\" font-size=\"14.00\">leaf=&#45;0.590041518</text>\n",
       "</g>\n",
       "<!-- 12&#45;&gt;25 -->\n",
       "<g id=\"edge45\" class=\"edge\">\n",
       "<title>12&#45;&gt;25</title>\n",
       "<path fill=\"none\" stroke=\"#ff0000\" d=\"M2455.64,-260.8C2455.64,-249.16 2455.64,-233.55 2455.64,-220.24\"/>\n",
       "<polygon fill=\"#ff0000\" stroke=\"#ff0000\" points=\"2459.14,-220.18 2455.64,-210.18 2452.14,-220.18 2459.14,-220.18\"/>\n",
       "<text text-anchor=\"middle\" x=\"2462.64\" y=\"-231.8\" font-family=\"Times,serif\" font-size=\"14.00\">no</text>\n",
       "</g>\n",
       "<!-- 26 -->\n",
       "<g id=\"node47\" class=\"node\">\n",
       "<title>26</title>\n",
       "<ellipse fill=\"none\" stroke=\"black\" cx=\"2615.64\" cy=\"-192\" rx=\"63.89\" ry=\"18\"/>\n",
       "<text text-anchor=\"middle\" x=\"2615.64\" y=\"-188.3\" font-family=\"Times,serif\" font-size=\"14.00\">ag_002&lt;22509</text>\n",
       "</g>\n",
       "<!-- 12&#45;&gt;26 -->\n",
       "<g id=\"edge46\" class=\"edge\">\n",
       "<title>12&#45;&gt;26</title>\n",
       "<path fill=\"none\" stroke=\"#0000ff\" d=\"M2482.78,-263.58C2508.93,-249.69 2548.71,-228.56 2577.93,-213.03\"/>\n",
       "<polygon fill=\"#0000ff\" stroke=\"#0000ff\" points=\"2579.83,-215.99 2587.02,-208.21 2576.54,-209.81 2579.83,-215.99\"/>\n",
       "<text text-anchor=\"middle\" x=\"2580.14\" y=\"-231.8\" font-family=\"Times,serif\" font-size=\"14.00\">yes, missing</text>\n",
       "</g>\n",
       "<!-- 43 -->\n",
       "<g id=\"node48\" class=\"node\">\n",
       "<title>43</title>\n",
       "<ellipse fill=\"none\" stroke=\"black\" cx=\"2455.64\" cy=\"-105\" rx=\"75.29\" ry=\"18\"/>\n",
       "<text text-anchor=\"middle\" x=\"2455.64\" y=\"-101.3\" font-family=\"Times,serif\" font-size=\"14.00\">ci_000&lt;10367646</text>\n",
       "</g>\n",
       "<!-- 26&#45;&gt;43 -->\n",
       "<g id=\"edge47\" class=\"edge\">\n",
       "<title>26&#45;&gt;43</title>\n",
       "<path fill=\"none\" stroke=\"#ff0000\" d=\"M2587.04,-175.8C2561.08,-162.02 2522.61,-141.58 2494,-126.38\"/>\n",
       "<polygon fill=\"#ff0000\" stroke=\"#ff0000\" points=\"2495.56,-123.24 2485.08,-121.64 2492.27,-129.42 2495.56,-123.24\"/>\n",
       "<text text-anchor=\"middle\" x=\"2552.64\" y=\"-144.8\" font-family=\"Times,serif\" font-size=\"14.00\">no</text>\n",
       "</g>\n",
       "<!-- 44 -->\n",
       "<g id=\"node49\" class=\"node\">\n",
       "<title>44</title>\n",
       "<ellipse fill=\"none\" stroke=\"black\" cx=\"2620.64\" cy=\"-105\" rx=\"71.49\" ry=\"18\"/>\n",
       "<text text-anchor=\"middle\" x=\"2620.64\" y=\"-101.3\" font-family=\"Times,serif\" font-size=\"14.00\">bm_000&lt;143290</text>\n",
       "</g>\n",
       "<!-- 26&#45;&gt;44 -->\n",
       "<g id=\"edge48\" class=\"edge\">\n",
       "<title>26&#45;&gt;44</title>\n",
       "<path fill=\"none\" stroke=\"#0000ff\" d=\"M2616.65,-173.8C2617.34,-162.16 2618.26,-146.55 2619.04,-133.24\"/>\n",
       "<polygon fill=\"#0000ff\" stroke=\"#0000ff\" points=\"2622.54,-133.36 2619.63,-123.18 2615.55,-132.95 2622.54,-133.36\"/>\n",
       "<text text-anchor=\"middle\" x=\"2653.14\" y=\"-144.8\" font-family=\"Times,serif\" font-size=\"14.00\">yes, missing</text>\n",
       "</g>\n",
       "<!-- 61 -->\n",
       "<g id=\"node50\" class=\"node\">\n",
       "<title>61</title>\n",
       "<ellipse fill=\"none\" stroke=\"black\" cx=\"2285.64\" cy=\"-18\" rx=\"78.79\" ry=\"18\"/>\n",
       "<text text-anchor=\"middle\" x=\"2285.64\" y=\"-14.3\" font-family=\"Times,serif\" font-size=\"14.00\">leaf=&#45;0.177224219</text>\n",
       "</g>\n",
       "<!-- 43&#45;&gt;61 -->\n",
       "<g id=\"edge49\" class=\"edge\">\n",
       "<title>43&#45;&gt;61</title>\n",
       "<path fill=\"none\" stroke=\"#0000ff\" d=\"M2423.68,-88.63C2411.17,-82.56 2396.71,-75.51 2383.64,-69 2364.28,-59.36 2342.87,-48.46 2325.01,-39.3\"/>\n",
       "<polygon fill=\"#0000ff\" stroke=\"#0000ff\" points=\"2326.52,-36.14 2316.03,-34.69 2323.32,-42.37 2326.52,-36.14\"/>\n",
       "<text text-anchor=\"middle\" x=\"2418.14\" y=\"-57.8\" font-family=\"Times,serif\" font-size=\"14.00\">yes, missing</text>\n",
       "</g>\n",
       "<!-- 62 -->\n",
       "<g id=\"node51\" class=\"node\">\n",
       "<title>62</title>\n",
       "<ellipse fill=\"none\" stroke=\"black\" cx=\"2457.64\" cy=\"-18\" rx=\"75.29\" ry=\"18\"/>\n",
       "<text text-anchor=\"middle\" x=\"2457.64\" y=\"-14.3\" font-family=\"Times,serif\" font-size=\"14.00\">leaf=0.351879716</text>\n",
       "</g>\n",
       "<!-- 43&#45;&gt;62 -->\n",
       "<g id=\"edge50\" class=\"edge\">\n",
       "<title>43&#45;&gt;62</title>\n",
       "<path fill=\"none\" stroke=\"#ff0000\" d=\"M2456.05,-86.8C2456.32,-75.16 2456.69,-59.55 2457,-46.24\"/>\n",
       "<polygon fill=\"#ff0000\" stroke=\"#ff0000\" points=\"2460.5,-46.26 2457.24,-36.18 2453.5,-46.09 2460.5,-46.26\"/>\n",
       "<text text-anchor=\"middle\" x=\"2464.64\" y=\"-57.8\" font-family=\"Times,serif\" font-size=\"14.00\">no</text>\n",
       "</g>\n",
       "<!-- 63 -->\n",
       "<g id=\"node52\" class=\"node\">\n",
       "<title>63</title>\n",
       "<ellipse fill=\"none\" stroke=\"black\" cx=\"2594.64\" cy=\"-18\" rx=\"43.59\" ry=\"18\"/>\n",
       "<text text-anchor=\"middle\" x=\"2594.64\" y=\"-14.3\" font-family=\"Times,serif\" font-size=\"14.00\">leaf=&#45;0.5</text>\n",
       "</g>\n",
       "<!-- 44&#45;&gt;63 -->\n",
       "<g id=\"edge51\" class=\"edge\">\n",
       "<title>44&#45;&gt;63</title>\n",
       "<path fill=\"none\" stroke=\"#ff0000\" d=\"M2615.38,-86.8C2611.76,-74.97 2606.89,-59.03 2602.77,-45.58\"/>\n",
       "<polygon fill=\"#ff0000\" stroke=\"#ff0000\" points=\"2606.08,-44.42 2599.81,-35.89 2599.39,-46.47 2606.08,-44.42\"/>\n",
       "<text text-anchor=\"middle\" x=\"2616.64\" y=\"-57.8\" font-family=\"Times,serif\" font-size=\"14.00\">no</text>\n",
       "</g>\n",
       "<!-- 64 -->\n",
       "<g id=\"node53\" class=\"node\">\n",
       "<title>64</title>\n",
       "<ellipse fill=\"none\" stroke=\"black\" cx=\"2731.64\" cy=\"-18\" rx=\"75.29\" ry=\"18\"/>\n",
       "<text text-anchor=\"middle\" x=\"2731.64\" y=\"-14.3\" font-family=\"Times,serif\" font-size=\"14.00\">leaf=0.548784435</text>\n",
       "</g>\n",
       "<!-- 44&#45;&gt;64 -->\n",
       "<g id=\"edge52\" class=\"edge\">\n",
       "<title>44&#45;&gt;64</title>\n",
       "<path fill=\"none\" stroke=\"#0000ff\" d=\"M2642.04,-87.61C2659.17,-74.5 2683.36,-55.98 2702.29,-41.48\"/>\n",
       "<polygon fill=\"#0000ff\" stroke=\"#0000ff\" points=\"2704.5,-44.2 2710.31,-35.34 2700.24,-38.64 2704.5,-44.2\"/>\n",
       "<text text-anchor=\"middle\" x=\"2718.14\" y=\"-57.8\" font-family=\"Times,serif\" font-size=\"14.00\">yes, missing</text>\n",
       "</g>\n",
       "<!-- 27 -->\n",
       "<g id=\"node56\" class=\"node\">\n",
       "<title>27</title>\n",
       "<ellipse fill=\"none\" stroke=\"black\" cx=\"3256.64\" cy=\"-192\" rx=\"67.69\" ry=\"18\"/>\n",
       "<text text-anchor=\"middle\" x=\"3256.64\" y=\"-188.3\" font-family=\"Times,serif\" font-size=\"14.00\">az_006&lt;196491</text>\n",
       "</g>\n",
       "<!-- 13&#45;&gt;27 -->\n",
       "<g id=\"edge55\" class=\"edge\">\n",
       "<title>13&#45;&gt;27</title>\n",
       "<path fill=\"none\" stroke=\"#0000ff\" d=\"M3322.75,-261.47C3316.62,-255.7 3309.76,-249.14 3303.64,-243 3295.48,-234.82 3286.76,-225.66 3279.07,-217.43\"/>\n",
       "<polygon fill=\"#0000ff\" stroke=\"#0000ff\" points=\"3281.44,-214.84 3272.07,-209.9 3276.31,-219.61 3281.44,-214.84\"/>\n",
       "<text text-anchor=\"middle\" x=\"3338.14\" y=\"-231.8\" font-family=\"Times,serif\" font-size=\"14.00\">yes, missing</text>\n",
       "</g>\n",
       "<!-- 28 -->\n",
       "<g id=\"node57\" class=\"node\">\n",
       "<title>28</title>\n",
       "<ellipse fill=\"none\" stroke=\"black\" cx=\"3420.64\" cy=\"-192\" rx=\"68.49\" ry=\"18\"/>\n",
       "<text text-anchor=\"middle\" x=\"3420.64\" y=\"-188.3\" font-family=\"Times,serif\" font-size=\"14.00\">ba_005&lt;723586</text>\n",
       "</g>\n",
       "<!-- 13&#45;&gt;28 -->\n",
       "<g id=\"edge56\" class=\"edge\">\n",
       "<title>13&#45;&gt;28</title>\n",
       "<path fill=\"none\" stroke=\"#ff0000\" d=\"M3356.45,-261.21C3368.28,-248.63 3384.64,-231.25 3397.88,-217.18\"/>\n",
       "<polygon fill=\"#ff0000\" stroke=\"#ff0000\" points=\"3400.57,-219.44 3404.87,-209.76 3395.47,-214.64 3400.57,-219.44\"/>\n",
       "<text text-anchor=\"middle\" x=\"3392.64\" y=\"-231.8\" font-family=\"Times,serif\" font-size=\"14.00\">no</text>\n",
       "</g>\n",
       "<!-- 29 -->\n",
       "<g id=\"node68\" class=\"node\">\n",
       "<title>29</title>\n",
       "<ellipse fill=\"none\" stroke=\"black\" cx=\"4016.64\" cy=\"-192\" rx=\"71.49\" ry=\"18\"/>\n",
       "<text text-anchor=\"middle\" x=\"4016.64\" y=\"-188.3\" font-family=\"Times,serif\" font-size=\"14.00\">bj_000&lt;3061322</text>\n",
       "</g>\n",
       "<!-- 14&#45;&gt;29 -->\n",
       "<g id=\"edge67\" class=\"edge\">\n",
       "<title>14&#45;&gt;29</title>\n",
       "<path fill=\"none\" stroke=\"#0000ff\" d=\"M4016.64,-260.8C4016.64,-249.16 4016.64,-233.55 4016.64,-220.24\"/>\n",
       "<polygon fill=\"#0000ff\" stroke=\"#0000ff\" points=\"4020.14,-220.18 4016.64,-210.18 4013.14,-220.18 4020.14,-220.18\"/>\n",
       "<text text-anchor=\"middle\" x=\"4051.14\" y=\"-231.8\" font-family=\"Times,serif\" font-size=\"14.00\">yes, missing</text>\n",
       "</g>\n",
       "<!-- 30 -->\n",
       "<g id=\"node69\" class=\"node\">\n",
       "<title>30</title>\n",
       "<ellipse fill=\"none\" stroke=\"black\" cx=\"4184.64\" cy=\"-192\" rx=\"78.79\" ry=\"18\"/>\n",
       "<text text-anchor=\"middle\" x=\"4184.64\" y=\"-188.3\" font-family=\"Times,serif\" font-size=\"14.00\">leaf=&#45;0.547826111</text>\n",
       "</g>\n",
       "<!-- 14&#45;&gt;30 -->\n",
       "<g id=\"edge68\" class=\"edge\">\n",
       "<title>14&#45;&gt;30</title>\n",
       "<path fill=\"none\" stroke=\"#ff0000\" d=\"M4049.48,-262.58C4062.09,-256.57 4076.58,-249.56 4089.64,-243 4108.33,-233.61 4128.89,-222.84 4146.09,-213.71\"/>\n",
       "<polygon fill=\"#ff0000\" stroke=\"#ff0000\" points=\"4148.08,-216.61 4155.26,-208.83 4144.79,-210.44 4148.08,-216.61\"/>\n",
       "<text text-anchor=\"middle\" x=\"4125.64\" y=\"-231.8\" font-family=\"Times,serif\" font-size=\"14.00\">no</text>\n",
       "</g>\n",
       "<!-- 45 -->\n",
       "<g id=\"node58\" class=\"node\">\n",
       "<title>45</title>\n",
       "<ellipse fill=\"none\" stroke=\"black\" cx=\"3078.64\" cy=\"-105\" rx=\"82.59\" ry=\"18\"/>\n",
       "<text text-anchor=\"middle\" x=\"3078.64\" y=\"-101.3\" font-family=\"Times,serif\" font-size=\"14.00\">bt_000&lt;82378.1484</text>\n",
       "</g>\n",
       "<!-- 27&#45;&gt;45 -->\n",
       "<g id=\"edge57\" class=\"edge\">\n",
       "<title>27&#45;&gt;45</title>\n",
       "<path fill=\"none\" stroke=\"#0000ff\" d=\"M3225.23,-176C3196.07,-162.08 3152.46,-141.25 3120.38,-125.93\"/>\n",
       "<polygon fill=\"#0000ff\" stroke=\"#0000ff\" points=\"3121.78,-122.72 3111.25,-121.57 3118.76,-129.04 3121.78,-122.72\"/>\n",
       "<text text-anchor=\"middle\" x=\"3213.14\" y=\"-144.8\" font-family=\"Times,serif\" font-size=\"14.00\">yes, missing</text>\n",
       "</g>\n",
       "<!-- 46 -->\n",
       "<g id=\"node59\" class=\"node\">\n",
       "<title>46</title>\n",
       "<ellipse fill=\"none\" stroke=\"black\" cx=\"3256.64\" cy=\"-105\" rx=\"61.99\" ry=\"18\"/>\n",
       "<text text-anchor=\"middle\" x=\"3256.64\" y=\"-101.3\" font-family=\"Times,serif\" font-size=\"14.00\">ai_000&lt;33590</text>\n",
       "</g>\n",
       "<!-- 27&#45;&gt;46 -->\n",
       "<g id=\"edge58\" class=\"edge\">\n",
       "<title>27&#45;&gt;46</title>\n",
       "<path fill=\"none\" stroke=\"#ff0000\" d=\"M3256.64,-173.8C3256.64,-162.16 3256.64,-146.55 3256.64,-133.24\"/>\n",
       "<polygon fill=\"#ff0000\" stroke=\"#ff0000\" points=\"3260.14,-133.18 3256.64,-123.18 3253.14,-133.18 3260.14,-133.18\"/>\n",
       "<text text-anchor=\"middle\" x=\"3263.64\" y=\"-144.8\" font-family=\"Times,serif\" font-size=\"14.00\">no</text>\n",
       "</g>\n",
       "<!-- 47 -->\n",
       "<g id=\"node64\" class=\"node\">\n",
       "<title>47</title>\n",
       "<ellipse fill=\"none\" stroke=\"black\" cx=\"3420.64\" cy=\"-105\" rx=\"78.79\" ry=\"18\"/>\n",
       "<text text-anchor=\"middle\" x=\"3420.64\" y=\"-101.3\" font-family=\"Times,serif\" font-size=\"14.00\">leaf=&#45;0.504000008</text>\n",
       "</g>\n",
       "<!-- 28&#45;&gt;47 -->\n",
       "<g id=\"edge63\" class=\"edge\">\n",
       "<title>28&#45;&gt;47</title>\n",
       "<path fill=\"none\" stroke=\"#ff0000\" d=\"M3420.64,-173.8C3420.64,-162.16 3420.64,-146.55 3420.64,-133.24\"/>\n",
       "<polygon fill=\"#ff0000\" stroke=\"#ff0000\" points=\"3424.14,-133.18 3420.64,-123.18 3417.14,-133.18 3424.14,-133.18\"/>\n",
       "<text text-anchor=\"middle\" x=\"3427.64\" y=\"-144.8\" font-family=\"Times,serif\" font-size=\"14.00\">no</text>\n",
       "</g>\n",
       "<!-- 48 -->\n",
       "<g id=\"node65\" class=\"node\">\n",
       "<title>48</title>\n",
       "<ellipse fill=\"none\" stroke=\"black\" cx=\"3597.64\" cy=\"-105\" rx=\"77.19\" ry=\"18\"/>\n",
       "<text text-anchor=\"middle\" x=\"3597.64\" y=\"-101.3\" font-family=\"Times,serif\" font-size=\"14.00\">ao_000&lt;13084426</text>\n",
       "</g>\n",
       "<!-- 28&#45;&gt;48 -->\n",
       "<g id=\"edge64\" class=\"edge\">\n",
       "<title>28&#45;&gt;48</title>\n",
       "<path fill=\"none\" stroke=\"#0000ff\" d=\"M3452.29,-175.8C3481.34,-161.85 3524.56,-141.09 3556.33,-125.84\"/>\n",
       "<polygon fill=\"#0000ff\" stroke=\"#0000ff\" points=\"3557.88,-128.98 3565.38,-121.5 3554.85,-122.67 3557.88,-128.98\"/>\n",
       "<text text-anchor=\"middle\" x=\"3555.14\" y=\"-144.8\" font-family=\"Times,serif\" font-size=\"14.00\">yes, missing</text>\n",
       "</g>\n",
       "<!-- 65 -->\n",
       "<g id=\"node60\" class=\"node\">\n",
       "<title>65</title>\n",
       "<ellipse fill=\"none\" stroke=\"black\" cx=\"2903.64\" cy=\"-18\" rx=\"78.79\" ry=\"18\"/>\n",
       "<text text-anchor=\"middle\" x=\"2903.64\" y=\"-14.3\" font-family=\"Times,serif\" font-size=\"14.00\">leaf=&#45;0.142499998</text>\n",
       "</g>\n",
       "<!-- 45&#45;&gt;65 -->\n",
       "<g id=\"edge59\" class=\"edge\">\n",
       "<title>45&#45;&gt;65</title>\n",
       "<path fill=\"none\" stroke=\"#ff0000\" d=\"M3046.55,-88.41C3017.93,-74.51 2975.89,-54.09 2944.8,-38.99\"/>\n",
       "<polygon fill=\"#ff0000\" stroke=\"#ff0000\" points=\"2946.06,-35.71 2935.54,-34.49 2943,-42.01 2946.06,-35.71\"/>\n",
       "<text text-anchor=\"middle\" x=\"3008.64\" y=\"-57.8\" font-family=\"Times,serif\" font-size=\"14.00\">no</text>\n",
       "</g>\n",
       "<!-- 66 -->\n",
       "<g id=\"node61\" class=\"node\">\n",
       "<title>66</title>\n",
       "<ellipse fill=\"none\" stroke=\"black\" cx=\"3078.64\" cy=\"-18\" rx=\"78.79\" ry=\"18\"/>\n",
       "<text text-anchor=\"middle\" x=\"3078.64\" y=\"-14.3\" font-family=\"Times,serif\" font-size=\"14.00\">leaf=&#45;0.589699566</text>\n",
       "</g>\n",
       "<!-- 45&#45;&gt;66 -->\n",
       "<g id=\"edge60\" class=\"edge\">\n",
       "<title>45&#45;&gt;66</title>\n",
       "<path fill=\"none\" stroke=\"#0000ff\" d=\"M3078.64,-86.8C3078.64,-75.16 3078.64,-59.55 3078.64,-46.24\"/>\n",
       "<polygon fill=\"#0000ff\" stroke=\"#0000ff\" points=\"3082.14,-46.18 3078.64,-36.18 3075.14,-46.18 3082.14,-46.18\"/>\n",
       "<text text-anchor=\"middle\" x=\"3113.14\" y=\"-57.8\" font-family=\"Times,serif\" font-size=\"14.00\">yes, missing</text>\n",
       "</g>\n",
       "<!-- 67 -->\n",
       "<g id=\"node62\" class=\"node\">\n",
       "<title>67</title>\n",
       "<ellipse fill=\"none\" stroke=\"black\" cx=\"3253.64\" cy=\"-18\" rx=\"78.79\" ry=\"18\"/>\n",
       "<text text-anchor=\"middle\" x=\"3253.64\" y=\"-14.3\" font-family=\"Times,serif\" font-size=\"14.00\">leaf=&#45;0.300000012</text>\n",
       "</g>\n",
       "<!-- 46&#45;&gt;67 -->\n",
       "<g id=\"edge61\" class=\"edge\">\n",
       "<title>46&#45;&gt;67</title>\n",
       "<path fill=\"none\" stroke=\"#ff0000\" d=\"M3256.04,-86.8C3255.63,-75.16 3255.07,-59.55 3254.6,-46.24\"/>\n",
       "<polygon fill=\"#ff0000\" stroke=\"#ff0000\" points=\"3258.1,-46.05 3254.25,-36.18 3251.1,-46.29 3258.1,-46.05\"/>\n",
       "<text text-anchor=\"middle\" x=\"3262.64\" y=\"-57.8\" font-family=\"Times,serif\" font-size=\"14.00\">no</text>\n",
       "</g>\n",
       "<!-- 68 -->\n",
       "<g id=\"node63\" class=\"node\">\n",
       "<title>68</title>\n",
       "<ellipse fill=\"none\" stroke=\"black\" cx=\"3425.64\" cy=\"-18\" rx=\"75.29\" ry=\"18\"/>\n",
       "<text text-anchor=\"middle\" x=\"3425.64\" y=\"-14.3\" font-family=\"Times,serif\" font-size=\"14.00\">leaf=0.580327868</text>\n",
       "</g>\n",
       "<!-- 46&#45;&gt;68 -->\n",
       "<g id=\"edge62\" class=\"edge\">\n",
       "<title>46&#45;&gt;68</title>\n",
       "<path fill=\"none\" stroke=\"#0000ff\" d=\"M3286.47,-89C3314.03,-75.13 3355.2,-54.43 3385.62,-39.13\"/>\n",
       "<polygon fill=\"#0000ff\" stroke=\"#0000ff\" points=\"3387.33,-42.19 3394.69,-34.57 3384.18,-35.94 3387.33,-42.19\"/>\n",
       "<text text-anchor=\"middle\" x=\"3386.14\" y=\"-57.8\" font-family=\"Times,serif\" font-size=\"14.00\">yes, missing</text>\n",
       "</g>\n",
       "<!-- 69 -->\n",
       "<g id=\"node66\" class=\"node\">\n",
       "<title>69</title>\n",
       "<ellipse fill=\"none\" stroke=\"black\" cx=\"3597.64\" cy=\"-18\" rx=\"78.79\" ry=\"18\"/>\n",
       "<text text-anchor=\"middle\" x=\"3597.64\" y=\"-14.3\" font-family=\"Times,serif\" font-size=\"14.00\">leaf=&#45;0.400000036</text>\n",
       "</g>\n",
       "<!-- 48&#45;&gt;69 -->\n",
       "<g id=\"edge65\" class=\"edge\">\n",
       "<title>48&#45;&gt;69</title>\n",
       "<path fill=\"none\" stroke=\"#ff0000\" d=\"M3597.64,-86.8C3597.64,-75.16 3597.64,-59.55 3597.64,-46.24\"/>\n",
       "<polygon fill=\"#ff0000\" stroke=\"#ff0000\" points=\"3601.14,-46.18 3597.64,-36.18 3594.14,-46.18 3601.14,-46.18\"/>\n",
       "<text text-anchor=\"middle\" x=\"3604.64\" y=\"-57.8\" font-family=\"Times,serif\" font-size=\"14.00\">no</text>\n",
       "</g>\n",
       "<!-- 70 -->\n",
       "<g id=\"node67\" class=\"node\">\n",
       "<title>70</title>\n",
       "<ellipse fill=\"none\" stroke=\"black\" cx=\"3769.64\" cy=\"-18\" rx=\"75.29\" ry=\"18\"/>\n",
       "<text text-anchor=\"middle\" x=\"3769.64\" y=\"-14.3\" font-family=\"Times,serif\" font-size=\"14.00\">leaf=0.551377654</text>\n",
       "</g>\n",
       "<!-- 48&#45;&gt;70 -->\n",
       "<g id=\"edge66\" class=\"edge\">\n",
       "<title>48&#45;&gt;70</title>\n",
       "<path fill=\"none\" stroke=\"#0000ff\" d=\"M3629.19,-88.41C3657.32,-74.51 3698.64,-54.09 3729.19,-38.99\"/>\n",
       "<polygon fill=\"#0000ff\" stroke=\"#0000ff\" points=\"3730.88,-42.06 3738.3,-34.49 3727.78,-35.78 3730.88,-42.06\"/>\n",
       "<text text-anchor=\"middle\" x=\"3729.14\" y=\"-57.8\" font-family=\"Times,serif\" font-size=\"14.00\">yes, missing</text>\n",
       "</g>\n",
       "<!-- 49 -->\n",
       "<g id=\"node70\" class=\"node\">\n",
       "<title>49</title>\n",
       "<ellipse fill=\"none\" stroke=\"black\" cx=\"4016.64\" cy=\"-105\" rx=\"63.89\" ry=\"18\"/>\n",
       "<text text-anchor=\"middle\" x=\"4016.64\" y=\"-101.3\" font-family=\"Times,serif\" font-size=\"14.00\">ay_008&lt;71336</text>\n",
       "</g>\n",
       "<!-- 29&#45;&gt;49 -->\n",
       "<g id=\"edge69\" class=\"edge\">\n",
       "<title>29&#45;&gt;49</title>\n",
       "<path fill=\"none\" stroke=\"#ff0000\" d=\"M4016.64,-173.8C4016.64,-162.16 4016.64,-146.55 4016.64,-133.24\"/>\n",
       "<polygon fill=\"#ff0000\" stroke=\"#ff0000\" points=\"4020.14,-133.18 4016.64,-123.18 4013.14,-133.18 4020.14,-133.18\"/>\n",
       "<text text-anchor=\"middle\" x=\"4023.64\" y=\"-144.8\" font-family=\"Times,serif\" font-size=\"14.00\">no</text>\n",
       "</g>\n",
       "<!-- 50 -->\n",
       "<g id=\"node71\" class=\"node\">\n",
       "<title>50</title>\n",
       "<ellipse fill=\"none\" stroke=\"black\" cx=\"4277.64\" cy=\"-105\" rx=\"82.59\" ry=\"18\"/>\n",
       "<text text-anchor=\"middle\" x=\"4277.64\" y=\"-101.3\" font-family=\"Times,serif\" font-size=\"14.00\">bt_000&lt;61851.9766</text>\n",
       "</g>\n",
       "<!-- 29&#45;&gt;50 -->\n",
       "<g id=\"edge70\" class=\"edge\">\n",
       "<title>29&#45;&gt;50</title>\n",
       "<path fill=\"none\" stroke=\"#0000ff\" d=\"M4058.58,-177.34C4103.47,-162.72 4174.84,-139.48 4223.84,-123.52\"/>\n",
       "<polygon fill=\"#0000ff\" stroke=\"#0000ff\" points=\"4225.21,-126.76 4233.63,-120.33 4223.04,-120.1 4225.21,-126.76\"/>\n",
       "<text text-anchor=\"middle\" x=\"4198.14\" y=\"-144.8\" font-family=\"Times,serif\" font-size=\"14.00\">yes, missing</text>\n",
       "</g>\n",
       "<!-- 71 -->\n",
       "<g id=\"node72\" class=\"node\">\n",
       "<title>71</title>\n",
       "<ellipse fill=\"none\" stroke=\"black\" cx=\"3941.64\" cy=\"-18\" rx=\"78.79\" ry=\"18\"/>\n",
       "<text text-anchor=\"middle\" x=\"3941.64\" y=\"-14.3\" font-family=\"Times,serif\" font-size=\"14.00\">leaf=&#45;0.193333343</text>\n",
       "</g>\n",
       "<!-- 49&#45;&gt;71 -->\n",
       "<g id=\"edge71\" class=\"edge\">\n",
       "<title>49&#45;&gt;71</title>\n",
       "<path fill=\"none\" stroke=\"#0000ff\" d=\"M4001.83,-87.21C3990.83,-74.75 3975.68,-57.57 3963.33,-43.57\"/>\n",
       "<polygon fill=\"#0000ff\" stroke=\"#0000ff\" points=\"3965.67,-40.94 3956.43,-35.76 3960.42,-45.57 3965.67,-40.94\"/>\n",
       "<text text-anchor=\"middle\" x=\"4018.14\" y=\"-57.8\" font-family=\"Times,serif\" font-size=\"14.00\">yes, missing</text>\n",
       "</g>\n",
       "<!-- 72 -->\n",
       "<g id=\"node73\" class=\"node\">\n",
       "<title>72</title>\n",
       "<ellipse fill=\"none\" stroke=\"black\" cx=\"4109.64\" cy=\"-18\" rx=\"71.49\" ry=\"18\"/>\n",
       "<text text-anchor=\"middle\" x=\"4109.64\" y=\"-14.3\" font-family=\"Times,serif\" font-size=\"14.00\">leaf=0.48745504</text>\n",
       "</g>\n",
       "<!-- 49&#45;&gt;72 -->\n",
       "<g id=\"edge72\" class=\"edge\">\n",
       "<title>49&#45;&gt;72</title>\n",
       "<path fill=\"none\" stroke=\"#ff0000\" d=\"M4035.49,-87.76C4042.22,-81.9 4049.81,-75.21 4056.64,-69 4065.91,-60.58 4075.94,-51.19 4084.75,-42.85\"/>\n",
       "<polygon fill=\"#ff0000\" stroke=\"#ff0000\" points=\"4087.29,-45.26 4092.13,-35.83 4082.47,-40.19 4087.29,-45.26\"/>\n",
       "<text text-anchor=\"middle\" x=\"4080.64\" y=\"-57.8\" font-family=\"Times,serif\" font-size=\"14.00\">no</text>\n",
       "</g>\n",
       "<!-- 73 -->\n",
       "<g id=\"node74\" class=\"node\">\n",
       "<title>73</title>\n",
       "<ellipse fill=\"none\" stroke=\"black\" cx=\"4277.64\" cy=\"-18\" rx=\"78.79\" ry=\"18\"/>\n",
       "<text text-anchor=\"middle\" x=\"4277.64\" y=\"-14.3\" font-family=\"Times,serif\" font-size=\"14.00\">leaf=&#45;0.485714316</text>\n",
       "</g>\n",
       "<!-- 50&#45;&gt;73 -->\n",
       "<g id=\"edge73\" class=\"edge\">\n",
       "<title>50&#45;&gt;73</title>\n",
       "<path fill=\"none\" stroke=\"#ff0000\" d=\"M4277.64,-86.8C4277.64,-75.16 4277.64,-59.55 4277.64,-46.24\"/>\n",
       "<polygon fill=\"#ff0000\" stroke=\"#ff0000\" points=\"4281.14,-46.18 4277.64,-36.18 4274.14,-46.18 4281.14,-46.18\"/>\n",
       "<text text-anchor=\"middle\" x=\"4284.64\" y=\"-57.8\" font-family=\"Times,serif\" font-size=\"14.00\">no</text>\n",
       "</g>\n",
       "<!-- 74 -->\n",
       "<g id=\"node75\" class=\"node\">\n",
       "<title>74</title>\n",
       "<ellipse fill=\"none\" stroke=\"black\" cx=\"4449.64\" cy=\"-18\" rx=\"75.29\" ry=\"18\"/>\n",
       "<text text-anchor=\"middle\" x=\"4449.64\" y=\"-14.3\" font-family=\"Times,serif\" font-size=\"14.00\">leaf=0.574462652</text>\n",
       "</g>\n",
       "<!-- 50&#45;&gt;74 -->\n",
       "<g id=\"edge74\" class=\"edge\">\n",
       "<title>50&#45;&gt;74</title>\n",
       "<path fill=\"none\" stroke=\"#0000ff\" d=\"M4309.59,-88.21C4337.77,-74.29 4378.95,-53.93 4409.38,-38.9\"/>\n",
       "<polygon fill=\"#0000ff\" stroke=\"#0000ff\" points=\"4411.03,-41.99 4418.45,-34.42 4407.93,-35.71 4411.03,-41.99\"/>\n",
       "<text text-anchor=\"middle\" x=\"4409.14\" y=\"-57.8\" font-family=\"Times,serif\" font-size=\"14.00\">yes, missing</text>\n",
       "</g>\n",
       "</g>\n",
       "</svg>\n"
      ],
      "text/plain": [
       "<graphviz.files.Source at 0x11d7069a0>"
      ]
     },
     "execution_count": 53,
     "metadata": {},
     "output_type": "execute_result"
    }
   ],
   "source": [
    "# converts the target tree to a graphviz instance\n",
    "xgb.to_graphviz(xgb_model2)"
   ]
  }
 ],
 "metadata": {
  "kernelspec": {
   "display_name": "Python 3.7.7 64-bit",
   "language": "python",
   "name": "python37764bit497e650d671a465a832873f585116d0b"
  },
  "language_info": {
   "codemirror_mode": {
    "name": "ipython",
    "version": 3
   },
   "file_extension": ".py",
   "mimetype": "text/x-python",
   "name": "python",
   "nbconvert_exporter": "python",
   "pygments_lexer": "ipython3",
   "version": "3.8.5"
  }
 },
 "nbformat": 4,
 "nbformat_minor": 4
}
